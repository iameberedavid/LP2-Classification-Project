{
 "cells": [
  {
   "cell_type": "markdown",
   "metadata": {},
   "source": [
    "# TELCO CHURN ANALYSIS"
   ]
  },
  {
   "cell_type": "markdown",
   "metadata": {},
   "source": [
    "## Hypothesis\n",
    "\n",
    "Null Hypothesis: There is no relationship between the monthly charges and the churn of customers.\n",
    "\n",
    "Alternate Hypothesis: There is a relationship between the monthly charges and the churn of customers."
   ]
  },
  {
   "cell_type": "markdown",
   "metadata": {},
   "source": [
    "## Analytical Questions\n",
    "1. What is the overall churn rate of the telecommunication company?\n",
    "2. What is the average monthly charges to churn customers compared to non-churn customers?\n",
    "3. What percentage of the top 100 most charged customers churned?\n",
    "4. What percentage of the top 100 least charged customers churned?\n",
    "5. What is the churn rate of male customers with partners, dependents and high monthly charges?\n",
    "6. What is the churn rate of customers without online security?\n",
    "7. What is the churn rate of customers without online backup?\n",
    "8. What is the churn rate of customers without device protection?\n",
    "9. What is the churn rate of customers without Tech support?\n",
    "10. How does the absence of online security, online backup, device protection and Tech support add up to lead to churning?\n",
    "11. How does the length of customers' contract affect their likelihood of churn?\n",
    "12. How does the length of customers' tenure affect their likelihood of churn?"
   ]
  },
  {
   "cell_type": "code",
   "execution_count": 92,
   "metadata": {},
   "outputs": [],
   "source": [
    "# Importing the needed packages\n",
    "import pandas as pd\n",
    "import numpy as np\n",
    "\n",
    "# Libraries to create connection string to SQL server\n",
    "import pyodbc\n",
    "from dotenv import dotenv_values\n",
    "\n",
    "# Libraries for visualization\n",
    "import matplotlib.pyplot as plt\n",
    "import seaborn as sns\n",
    "\n",
    "# Library for testing the hypothesis\n",
    "import scipy.stats as stats\n",
    "\n",
    "# Library for splitting the train data\n",
    "from sklearn.model_selection import train_test_split\n",
    "\n",
    "# Library for features scaling\n",
    "from sklearn.preprocessing import MinMaxScaler\n",
    "\n",
    "# Libraries for balancing the dataset\n",
    "from imblearn.over_sampling import SMOTE\n",
    "from imblearn.under_sampling import RandomUnderSampler\n",
    "\n",
    "# Libraries for modelling\n",
    "from sklearn.linear_model import LogisticRegression\n",
    "from sklearn.tree import DecisionTreeClassifier\n",
    "from sklearn.ensemble import RandomForestClassifier\n",
    "from sklearn.ensemble import GradientBoostingClassifier\n",
    "from sklearn.svm import SVC\n",
    "from sklearn.naive_bayes import GaussianNB\n",
    "from sklearn.neighbors import KNeighborsClassifier\n",
    "\n",
    "# Libraries for evaluation\n",
    "from sklearn.metrics import accuracy_score, precision_score, recall_score, f1_score, roc_auc_score\n",
    "\n",
    "import warnings\n",
    "\n",
    "warnings.filterwarnings('ignore')"
   ]
  },
  {
   "cell_type": "markdown",
   "metadata": {},
   "source": [
    "There are three datasets for this analysis which are located in three different places. The first dataset can be found on a SQL server and is to be accessed remotely. The second dataset can be found as an excel file on One Drive. The access link was provided and used to access and download the dataset. While the third dataset can be found as a csv file on a Github repository whose link was provided as well and used to clone the dataset into the local machine.\n",
    "\n",
    "The first and last datasets have been identified as the train datasets, while the second dataset has been identifed as the test dataset. The train datasets will be assessed and merged together, and used to build models independently. While the test dataset will be used to test the models independently."
   ]
  },
  {
   "cell_type": "markdown",
   "metadata": {},
   "source": [
    "## Accessing the first dataset from SQL database"
   ]
  },
  {
   "cell_type": "code",
   "execution_count": 93,
   "metadata": {},
   "outputs": [],
   "source": [
    "# Load the environment variable in the .env file into a dictionary\n",
    "\n",
    "environment_variables = dotenv_values('.env')\n",
    "\n",
    "# Get the values for the credentials you set in the .env file\n",
    "server = environment_variables.get(\"SERVER\")\n",
    "database = environment_variables.get(\"DATABASE\")\n",
    "username = environment_variables.get(\"USERNAME\")\n",
    "password = environment_variables.get(\"PASSWORD\")\n",
    "\n",
    "# The connection string is an f string that includes all the variable above to extablish a connection to the server.\n",
    "connection_string = f\"DRIVER={{SQL Server}};SERVER={server};DATABASE={database};UID={username};PWD={password}\"\n"
   ]
  },
  {
   "cell_type": "code",
   "execution_count": 94,
   "metadata": {},
   "outputs": [],
   "source": [
    "# Using the connect method of the pyodbc library to pass in the connection string.\n",
    "\n",
    "# N/B: This will connect to the server and might take a few seconds to be complete.\n",
    "# Check your internet connection if it takes more time than necessary.\n",
    "\n",
    "connection = pyodbc.connect(connection_string)"
   ]
  },
  {
   "cell_type": "code",
   "execution_count": 95,
   "metadata": {},
   "outputs": [
    {
     "data": {
      "text/html": [
       "<div>\n",
       "<style scoped>\n",
       "    .dataframe tbody tr th:only-of-type {\n",
       "        vertical-align: middle;\n",
       "    }\n",
       "\n",
       "    .dataframe tbody tr th {\n",
       "        vertical-align: top;\n",
       "    }\n",
       "\n",
       "    .dataframe thead th {\n",
       "        text-align: right;\n",
       "    }\n",
       "</style>\n",
       "<table border=\"1\" class=\"dataframe\">\n",
       "  <thead>\n",
       "    <tr style=\"text-align: right;\">\n",
       "      <th></th>\n",
       "      <th>customerID</th>\n",
       "      <th>gender</th>\n",
       "      <th>SeniorCitizen</th>\n",
       "      <th>Partner</th>\n",
       "      <th>Dependents</th>\n",
       "      <th>tenure</th>\n",
       "      <th>PhoneService</th>\n",
       "      <th>MultipleLines</th>\n",
       "      <th>InternetService</th>\n",
       "      <th>OnlineSecurity</th>\n",
       "      <th>...</th>\n",
       "      <th>DeviceProtection</th>\n",
       "      <th>TechSupport</th>\n",
       "      <th>StreamingTV</th>\n",
       "      <th>StreamingMovies</th>\n",
       "      <th>Contract</th>\n",
       "      <th>PaperlessBilling</th>\n",
       "      <th>PaymentMethod</th>\n",
       "      <th>MonthlyCharges</th>\n",
       "      <th>TotalCharges</th>\n",
       "      <th>Churn</th>\n",
       "    </tr>\n",
       "  </thead>\n",
       "  <tbody>\n",
       "    <tr>\n",
       "      <th>0</th>\n",
       "      <td>7590-VHVEG</td>\n",
       "      <td>Female</td>\n",
       "      <td>False</td>\n",
       "      <td>True</td>\n",
       "      <td>False</td>\n",
       "      <td>1</td>\n",
       "      <td>False</td>\n",
       "      <td>None</td>\n",
       "      <td>DSL</td>\n",
       "      <td>False</td>\n",
       "      <td>...</td>\n",
       "      <td>False</td>\n",
       "      <td>False</td>\n",
       "      <td>False</td>\n",
       "      <td>False</td>\n",
       "      <td>Month-to-month</td>\n",
       "      <td>True</td>\n",
       "      <td>Electronic check</td>\n",
       "      <td>29.850000</td>\n",
       "      <td>29.850000</td>\n",
       "      <td>False</td>\n",
       "    </tr>\n",
       "    <tr>\n",
       "      <th>1</th>\n",
       "      <td>5575-GNVDE</td>\n",
       "      <td>Male</td>\n",
       "      <td>False</td>\n",
       "      <td>False</td>\n",
       "      <td>False</td>\n",
       "      <td>34</td>\n",
       "      <td>True</td>\n",
       "      <td>False</td>\n",
       "      <td>DSL</td>\n",
       "      <td>True</td>\n",
       "      <td>...</td>\n",
       "      <td>True</td>\n",
       "      <td>False</td>\n",
       "      <td>False</td>\n",
       "      <td>False</td>\n",
       "      <td>One year</td>\n",
       "      <td>False</td>\n",
       "      <td>Mailed check</td>\n",
       "      <td>56.950001</td>\n",
       "      <td>1889.500000</td>\n",
       "      <td>False</td>\n",
       "    </tr>\n",
       "    <tr>\n",
       "      <th>2</th>\n",
       "      <td>3668-QPYBK</td>\n",
       "      <td>Male</td>\n",
       "      <td>False</td>\n",
       "      <td>False</td>\n",
       "      <td>False</td>\n",
       "      <td>2</td>\n",
       "      <td>True</td>\n",
       "      <td>False</td>\n",
       "      <td>DSL</td>\n",
       "      <td>True</td>\n",
       "      <td>...</td>\n",
       "      <td>False</td>\n",
       "      <td>False</td>\n",
       "      <td>False</td>\n",
       "      <td>False</td>\n",
       "      <td>Month-to-month</td>\n",
       "      <td>True</td>\n",
       "      <td>Mailed check</td>\n",
       "      <td>53.849998</td>\n",
       "      <td>108.150002</td>\n",
       "      <td>True</td>\n",
       "    </tr>\n",
       "    <tr>\n",
       "      <th>3</th>\n",
       "      <td>7795-CFOCW</td>\n",
       "      <td>Male</td>\n",
       "      <td>False</td>\n",
       "      <td>False</td>\n",
       "      <td>False</td>\n",
       "      <td>45</td>\n",
       "      <td>False</td>\n",
       "      <td>None</td>\n",
       "      <td>DSL</td>\n",
       "      <td>True</td>\n",
       "      <td>...</td>\n",
       "      <td>True</td>\n",
       "      <td>True</td>\n",
       "      <td>False</td>\n",
       "      <td>False</td>\n",
       "      <td>One year</td>\n",
       "      <td>False</td>\n",
       "      <td>Bank transfer (automatic)</td>\n",
       "      <td>42.299999</td>\n",
       "      <td>1840.750000</td>\n",
       "      <td>False</td>\n",
       "    </tr>\n",
       "    <tr>\n",
       "      <th>4</th>\n",
       "      <td>9237-HQITU</td>\n",
       "      <td>Female</td>\n",
       "      <td>False</td>\n",
       "      <td>False</td>\n",
       "      <td>False</td>\n",
       "      <td>2</td>\n",
       "      <td>True</td>\n",
       "      <td>False</td>\n",
       "      <td>Fiber optic</td>\n",
       "      <td>False</td>\n",
       "      <td>...</td>\n",
       "      <td>False</td>\n",
       "      <td>False</td>\n",
       "      <td>False</td>\n",
       "      <td>False</td>\n",
       "      <td>Month-to-month</td>\n",
       "      <td>True</td>\n",
       "      <td>Electronic check</td>\n",
       "      <td>70.699997</td>\n",
       "      <td>151.649994</td>\n",
       "      <td>True</td>\n",
       "    </tr>\n",
       "  </tbody>\n",
       "</table>\n",
       "<p>5 rows × 21 columns</p>\n",
       "</div>"
      ],
      "text/plain": [
       "   customerID  gender  SeniorCitizen  Partner  Dependents  tenure   \n",
       "0  7590-VHVEG  Female          False     True       False       1  \\\n",
       "1  5575-GNVDE    Male          False    False       False      34   \n",
       "2  3668-QPYBK    Male          False    False       False       2   \n",
       "3  7795-CFOCW    Male          False    False       False      45   \n",
       "4  9237-HQITU  Female          False    False       False       2   \n",
       "\n",
       "   PhoneService MultipleLines InternetService OnlineSecurity  ...   \n",
       "0         False          None             DSL          False  ...  \\\n",
       "1          True         False             DSL           True  ...   \n",
       "2          True         False             DSL           True  ...   \n",
       "3         False          None             DSL           True  ...   \n",
       "4          True         False     Fiber optic          False  ...   \n",
       "\n",
       "  DeviceProtection TechSupport StreamingTV StreamingMovies        Contract   \n",
       "0            False       False       False           False  Month-to-month  \\\n",
       "1             True       False       False           False        One year   \n",
       "2            False       False       False           False  Month-to-month   \n",
       "3             True        True       False           False        One year   \n",
       "4            False       False       False           False  Month-to-month   \n",
       "\n",
       "  PaperlessBilling              PaymentMethod MonthlyCharges  TotalCharges   \n",
       "0             True           Electronic check      29.850000     29.850000  \\\n",
       "1            False               Mailed check      56.950001   1889.500000   \n",
       "2             True               Mailed check      53.849998    108.150002   \n",
       "3            False  Bank transfer (automatic)      42.299999   1840.750000   \n",
       "4             True           Electronic check      70.699997    151.649994   \n",
       "\n",
       "   Churn  \n",
       "0  False  \n",
       "1  False  \n",
       "2   True  \n",
       "3  False  \n",
       "4   True  \n",
       "\n",
       "[5 rows x 21 columns]"
      ]
     },
     "execution_count": 95,
     "metadata": {},
     "output_type": "execute_result"
    }
   ],
   "source": [
    "# Get the dataset using the SQL query shown below\n",
    "# dbo.LP2_Telco_churn_first_3000 is the name of the dataset, dbo being a naming convention in Microsoft SQL Server.\n",
    "\n",
    "query = \"Select * from dbo.LP2_Telco_churn_first_3000\"\n",
    "df1 = pd.read_sql(query, connection)\n",
    "\n",
    "df1.head()"
   ]
  },
  {
   "cell_type": "markdown",
   "metadata": {},
   "source": [
    "## Accessing the last dataset"
   ]
  },
  {
   "cell_type": "code",
   "execution_count": 5,
   "metadata": {},
   "outputs": [],
   "source": [
    "# Loading the last dataset.\n",
    "\n",
    "df3 = pd.read_csv('LP2_Telco-churn-last-2000.csv')"
   ]
  },
  {
   "cell_type": "code",
   "execution_count": 6,
   "metadata": {},
   "outputs": [
    {
     "data": {
      "text/html": [
       "<div>\n",
       "<style scoped>\n",
       "    .dataframe tbody tr th:only-of-type {\n",
       "        vertical-align: middle;\n",
       "    }\n",
       "\n",
       "    .dataframe tbody tr th {\n",
       "        vertical-align: top;\n",
       "    }\n",
       "\n",
       "    .dataframe thead th {\n",
       "        text-align: right;\n",
       "    }\n",
       "</style>\n",
       "<table border=\"1\" class=\"dataframe\">\n",
       "  <thead>\n",
       "    <tr style=\"text-align: right;\">\n",
       "      <th></th>\n",
       "      <th>customerID</th>\n",
       "      <th>gender</th>\n",
       "      <th>SeniorCitizen</th>\n",
       "      <th>Partner</th>\n",
       "      <th>Dependents</th>\n",
       "      <th>tenure</th>\n",
       "      <th>PhoneService</th>\n",
       "      <th>MultipleLines</th>\n",
       "      <th>InternetService</th>\n",
       "      <th>OnlineSecurity</th>\n",
       "      <th>...</th>\n",
       "      <th>DeviceProtection</th>\n",
       "      <th>TechSupport</th>\n",
       "      <th>StreamingTV</th>\n",
       "      <th>StreamingMovies</th>\n",
       "      <th>Contract</th>\n",
       "      <th>PaperlessBilling</th>\n",
       "      <th>PaymentMethod</th>\n",
       "      <th>MonthlyCharges</th>\n",
       "      <th>TotalCharges</th>\n",
       "      <th>Churn</th>\n",
       "    </tr>\n",
       "  </thead>\n",
       "  <tbody>\n",
       "    <tr>\n",
       "      <th>0</th>\n",
       "      <td>5600-PDUJF</td>\n",
       "      <td>Male</td>\n",
       "      <td>0</td>\n",
       "      <td>No</td>\n",
       "      <td>No</td>\n",
       "      <td>6</td>\n",
       "      <td>Yes</td>\n",
       "      <td>No</td>\n",
       "      <td>DSL</td>\n",
       "      <td>No</td>\n",
       "      <td>...</td>\n",
       "      <td>No</td>\n",
       "      <td>Yes</td>\n",
       "      <td>No</td>\n",
       "      <td>No</td>\n",
       "      <td>Month-to-month</td>\n",
       "      <td>Yes</td>\n",
       "      <td>Credit card (automatic)</td>\n",
       "      <td>49.50</td>\n",
       "      <td>312.7</td>\n",
       "      <td>No</td>\n",
       "    </tr>\n",
       "    <tr>\n",
       "      <th>1</th>\n",
       "      <td>8292-TYSPY</td>\n",
       "      <td>Male</td>\n",
       "      <td>0</td>\n",
       "      <td>No</td>\n",
       "      <td>No</td>\n",
       "      <td>19</td>\n",
       "      <td>Yes</td>\n",
       "      <td>No</td>\n",
       "      <td>DSL</td>\n",
       "      <td>No</td>\n",
       "      <td>...</td>\n",
       "      <td>Yes</td>\n",
       "      <td>Yes</td>\n",
       "      <td>No</td>\n",
       "      <td>No</td>\n",
       "      <td>Month-to-month</td>\n",
       "      <td>Yes</td>\n",
       "      <td>Credit card (automatic)</td>\n",
       "      <td>55.00</td>\n",
       "      <td>1046.5</td>\n",
       "      <td>Yes</td>\n",
       "    </tr>\n",
       "    <tr>\n",
       "      <th>2</th>\n",
       "      <td>0567-XRHCU</td>\n",
       "      <td>Female</td>\n",
       "      <td>0</td>\n",
       "      <td>Yes</td>\n",
       "      <td>Yes</td>\n",
       "      <td>69</td>\n",
       "      <td>No</td>\n",
       "      <td>No phone service</td>\n",
       "      <td>DSL</td>\n",
       "      <td>Yes</td>\n",
       "      <td>...</td>\n",
       "      <td>Yes</td>\n",
       "      <td>No</td>\n",
       "      <td>No</td>\n",
       "      <td>Yes</td>\n",
       "      <td>Two year</td>\n",
       "      <td>Yes</td>\n",
       "      <td>Credit card (automatic)</td>\n",
       "      <td>43.95</td>\n",
       "      <td>2960.1</td>\n",
       "      <td>No</td>\n",
       "    </tr>\n",
       "    <tr>\n",
       "      <th>3</th>\n",
       "      <td>1867-BDVFH</td>\n",
       "      <td>Male</td>\n",
       "      <td>0</td>\n",
       "      <td>Yes</td>\n",
       "      <td>Yes</td>\n",
       "      <td>11</td>\n",
       "      <td>Yes</td>\n",
       "      <td>Yes</td>\n",
       "      <td>Fiber optic</td>\n",
       "      <td>No</td>\n",
       "      <td>...</td>\n",
       "      <td>No</td>\n",
       "      <td>No</td>\n",
       "      <td>No</td>\n",
       "      <td>No</td>\n",
       "      <td>Month-to-month</td>\n",
       "      <td>Yes</td>\n",
       "      <td>Electronic check</td>\n",
       "      <td>74.35</td>\n",
       "      <td>834.2</td>\n",
       "      <td>Yes</td>\n",
       "    </tr>\n",
       "    <tr>\n",
       "      <th>4</th>\n",
       "      <td>2067-QYTCF</td>\n",
       "      <td>Female</td>\n",
       "      <td>0</td>\n",
       "      <td>Yes</td>\n",
       "      <td>No</td>\n",
       "      <td>64</td>\n",
       "      <td>Yes</td>\n",
       "      <td>Yes</td>\n",
       "      <td>Fiber optic</td>\n",
       "      <td>No</td>\n",
       "      <td>...</td>\n",
       "      <td>Yes</td>\n",
       "      <td>Yes</td>\n",
       "      <td>Yes</td>\n",
       "      <td>Yes</td>\n",
       "      <td>Month-to-month</td>\n",
       "      <td>Yes</td>\n",
       "      <td>Electronic check</td>\n",
       "      <td>111.15</td>\n",
       "      <td>6953.4</td>\n",
       "      <td>No</td>\n",
       "    </tr>\n",
       "  </tbody>\n",
       "</table>\n",
       "<p>5 rows × 21 columns</p>\n",
       "</div>"
      ],
      "text/plain": [
       "   customerID  gender  SeniorCitizen Partner Dependents  tenure PhoneService   \n",
       "0  5600-PDUJF    Male              0      No         No       6          Yes  \\\n",
       "1  8292-TYSPY    Male              0      No         No      19          Yes   \n",
       "2  0567-XRHCU  Female              0     Yes        Yes      69           No   \n",
       "3  1867-BDVFH    Male              0     Yes        Yes      11          Yes   \n",
       "4  2067-QYTCF  Female              0     Yes         No      64          Yes   \n",
       "\n",
       "      MultipleLines InternetService OnlineSecurity  ... DeviceProtection   \n",
       "0                No             DSL             No  ...               No  \\\n",
       "1                No             DSL             No  ...              Yes   \n",
       "2  No phone service             DSL            Yes  ...              Yes   \n",
       "3               Yes     Fiber optic             No  ...               No   \n",
       "4               Yes     Fiber optic             No  ...              Yes   \n",
       "\n",
       "  TechSupport StreamingTV StreamingMovies        Contract PaperlessBilling   \n",
       "0         Yes          No              No  Month-to-month              Yes  \\\n",
       "1         Yes          No              No  Month-to-month              Yes   \n",
       "2          No          No             Yes        Two year              Yes   \n",
       "3          No          No              No  Month-to-month              Yes   \n",
       "4         Yes         Yes             Yes  Month-to-month              Yes   \n",
       "\n",
       "             PaymentMethod MonthlyCharges  TotalCharges Churn  \n",
       "0  Credit card (automatic)          49.50         312.7    No  \n",
       "1  Credit card (automatic)          55.00        1046.5   Yes  \n",
       "2  Credit card (automatic)          43.95        2960.1    No  \n",
       "3         Electronic check          74.35         834.2   Yes  \n",
       "4         Electronic check         111.15        6953.4    No  \n",
       "\n",
       "[5 rows x 21 columns]"
      ]
     },
     "execution_count": 6,
     "metadata": {},
     "output_type": "execute_result"
    }
   ],
   "source": [
    "# Displaying the first five rows of the last dataset.\n",
    "\n",
    "df3.head()"
   ]
  },
  {
   "cell_type": "code",
   "execution_count": 7,
   "metadata": {},
   "outputs": [
    {
     "data": {
      "text/plain": [
       "Index(['customerID', 'gender', 'SeniorCitizen', 'Partner', 'Dependents',\n",
       "       'tenure', 'PhoneService', 'MultipleLines', 'InternetService',\n",
       "       'OnlineSecurity', 'OnlineBackup', 'DeviceProtection', 'TechSupport',\n",
       "       'StreamingTV', 'StreamingMovies', 'Contract', 'PaperlessBilling',\n",
       "       'PaymentMethod', 'MonthlyCharges', 'TotalCharges', 'Churn'],\n",
       "      dtype='object')"
      ]
     },
     "execution_count": 7,
     "metadata": {},
     "output_type": "execute_result"
    }
   ],
   "source": [
    "# Inspecting the columns of the first dataset.\n",
    "\n",
    "df1.columns"
   ]
  },
  {
   "cell_type": "code",
   "execution_count": 8,
   "metadata": {},
   "outputs": [
    {
     "data": {
      "text/plain": [
       "Index(['customerID', 'gender', 'SeniorCitizen', 'Partner', 'Dependents',\n",
       "       'tenure', 'PhoneService', 'MultipleLines', 'InternetService',\n",
       "       'OnlineSecurity', 'OnlineBackup', 'DeviceProtection', 'TechSupport',\n",
       "       'StreamingTV', 'StreamingMovies', 'Contract', 'PaperlessBilling',\n",
       "       'PaymentMethod', 'MonthlyCharges', 'TotalCharges', 'Churn'],\n",
       "      dtype='object')"
      ]
     },
     "execution_count": 8,
     "metadata": {},
     "output_type": "execute_result"
    }
   ],
   "source": [
    "# Inspecting the columns of the last dataset.\n",
    "\n",
    "df3.columns"
   ]
  },
  {
   "cell_type": "code",
   "execution_count": 9,
   "metadata": {},
   "outputs": [
    {
     "data": {
      "text/html": [
       "<div>\n",
       "<style scoped>\n",
       "    .dataframe tbody tr th:only-of-type {\n",
       "        vertical-align: middle;\n",
       "    }\n",
       "\n",
       "    .dataframe tbody tr th {\n",
       "        vertical-align: top;\n",
       "    }\n",
       "\n",
       "    .dataframe thead th {\n",
       "        text-align: right;\n",
       "    }\n",
       "</style>\n",
       "<table border=\"1\" class=\"dataframe\">\n",
       "  <thead>\n",
       "    <tr style=\"text-align: right;\">\n",
       "      <th></th>\n",
       "      <th>customerID</th>\n",
       "      <th>gender</th>\n",
       "      <th>SeniorCitizen</th>\n",
       "      <th>Partner</th>\n",
       "      <th>Dependents</th>\n",
       "      <th>tenure</th>\n",
       "      <th>PhoneService</th>\n",
       "      <th>MultipleLines</th>\n",
       "      <th>InternetService</th>\n",
       "      <th>OnlineSecurity</th>\n",
       "      <th>...</th>\n",
       "      <th>DeviceProtection</th>\n",
       "      <th>TechSupport</th>\n",
       "      <th>StreamingTV</th>\n",
       "      <th>StreamingMovies</th>\n",
       "      <th>Contract</th>\n",
       "      <th>PaperlessBilling</th>\n",
       "      <th>PaymentMethod</th>\n",
       "      <th>MonthlyCharges</th>\n",
       "      <th>TotalCharges</th>\n",
       "      <th>Churn</th>\n",
       "    </tr>\n",
       "  </thead>\n",
       "  <tbody>\n",
       "    <tr>\n",
       "      <th>0</th>\n",
       "      <td>7590-VHVEG</td>\n",
       "      <td>Female</td>\n",
       "      <td>False</td>\n",
       "      <td>True</td>\n",
       "      <td>False</td>\n",
       "      <td>1</td>\n",
       "      <td>False</td>\n",
       "      <td>None</td>\n",
       "      <td>DSL</td>\n",
       "      <td>False</td>\n",
       "      <td>...</td>\n",
       "      <td>False</td>\n",
       "      <td>False</td>\n",
       "      <td>False</td>\n",
       "      <td>False</td>\n",
       "      <td>Month-to-month</td>\n",
       "      <td>True</td>\n",
       "      <td>Electronic check</td>\n",
       "      <td>29.850000</td>\n",
       "      <td>29.85</td>\n",
       "      <td>False</td>\n",
       "    </tr>\n",
       "    <tr>\n",
       "      <th>1</th>\n",
       "      <td>5575-GNVDE</td>\n",
       "      <td>Male</td>\n",
       "      <td>False</td>\n",
       "      <td>False</td>\n",
       "      <td>False</td>\n",
       "      <td>34</td>\n",
       "      <td>True</td>\n",
       "      <td>False</td>\n",
       "      <td>DSL</td>\n",
       "      <td>True</td>\n",
       "      <td>...</td>\n",
       "      <td>True</td>\n",
       "      <td>False</td>\n",
       "      <td>False</td>\n",
       "      <td>False</td>\n",
       "      <td>One year</td>\n",
       "      <td>False</td>\n",
       "      <td>Mailed check</td>\n",
       "      <td>56.950001</td>\n",
       "      <td>1889.5</td>\n",
       "      <td>False</td>\n",
       "    </tr>\n",
       "    <tr>\n",
       "      <th>2</th>\n",
       "      <td>3668-QPYBK</td>\n",
       "      <td>Male</td>\n",
       "      <td>False</td>\n",
       "      <td>False</td>\n",
       "      <td>False</td>\n",
       "      <td>2</td>\n",
       "      <td>True</td>\n",
       "      <td>False</td>\n",
       "      <td>DSL</td>\n",
       "      <td>True</td>\n",
       "      <td>...</td>\n",
       "      <td>False</td>\n",
       "      <td>False</td>\n",
       "      <td>False</td>\n",
       "      <td>False</td>\n",
       "      <td>Month-to-month</td>\n",
       "      <td>True</td>\n",
       "      <td>Mailed check</td>\n",
       "      <td>53.849998</td>\n",
       "      <td>108.150002</td>\n",
       "      <td>True</td>\n",
       "    </tr>\n",
       "    <tr>\n",
       "      <th>3</th>\n",
       "      <td>7795-CFOCW</td>\n",
       "      <td>Male</td>\n",
       "      <td>False</td>\n",
       "      <td>False</td>\n",
       "      <td>False</td>\n",
       "      <td>45</td>\n",
       "      <td>False</td>\n",
       "      <td>None</td>\n",
       "      <td>DSL</td>\n",
       "      <td>True</td>\n",
       "      <td>...</td>\n",
       "      <td>True</td>\n",
       "      <td>True</td>\n",
       "      <td>False</td>\n",
       "      <td>False</td>\n",
       "      <td>One year</td>\n",
       "      <td>False</td>\n",
       "      <td>Bank transfer (automatic)</td>\n",
       "      <td>42.299999</td>\n",
       "      <td>1840.75</td>\n",
       "      <td>False</td>\n",
       "    </tr>\n",
       "    <tr>\n",
       "      <th>4</th>\n",
       "      <td>9237-HQITU</td>\n",
       "      <td>Female</td>\n",
       "      <td>False</td>\n",
       "      <td>False</td>\n",
       "      <td>False</td>\n",
       "      <td>2</td>\n",
       "      <td>True</td>\n",
       "      <td>False</td>\n",
       "      <td>Fiber optic</td>\n",
       "      <td>False</td>\n",
       "      <td>...</td>\n",
       "      <td>False</td>\n",
       "      <td>False</td>\n",
       "      <td>False</td>\n",
       "      <td>False</td>\n",
       "      <td>Month-to-month</td>\n",
       "      <td>True</td>\n",
       "      <td>Electronic check</td>\n",
       "      <td>70.699997</td>\n",
       "      <td>151.649994</td>\n",
       "      <td>True</td>\n",
       "    </tr>\n",
       "  </tbody>\n",
       "</table>\n",
       "<p>5 rows × 21 columns</p>\n",
       "</div>"
      ],
      "text/plain": [
       "   customerID  gender SeniorCitizen Partner Dependents  tenure PhoneService   \n",
       "0  7590-VHVEG  Female         False    True      False       1        False  \\\n",
       "1  5575-GNVDE    Male         False   False      False      34         True   \n",
       "2  3668-QPYBK    Male         False   False      False       2         True   \n",
       "3  7795-CFOCW    Male         False   False      False      45        False   \n",
       "4  9237-HQITU  Female         False   False      False       2         True   \n",
       "\n",
       "  MultipleLines InternetService OnlineSecurity  ... DeviceProtection   \n",
       "0          None             DSL          False  ...            False  \\\n",
       "1         False             DSL           True  ...             True   \n",
       "2         False             DSL           True  ...            False   \n",
       "3          None             DSL           True  ...             True   \n",
       "4         False     Fiber optic          False  ...            False   \n",
       "\n",
       "  TechSupport StreamingTV StreamingMovies        Contract PaperlessBilling   \n",
       "0       False       False           False  Month-to-month             True  \\\n",
       "1       False       False           False        One year            False   \n",
       "2       False       False           False  Month-to-month             True   \n",
       "3        True       False           False        One year            False   \n",
       "4       False       False           False  Month-to-month             True   \n",
       "\n",
       "               PaymentMethod MonthlyCharges  TotalCharges  Churn  \n",
       "0           Electronic check      29.850000         29.85  False  \n",
       "1               Mailed check      56.950001        1889.5  False  \n",
       "2               Mailed check      53.849998    108.150002   True  \n",
       "3  Bank transfer (automatic)      42.299999       1840.75  False  \n",
       "4           Electronic check      70.699997    151.649994   True  \n",
       "\n",
       "[5 rows x 21 columns]"
      ]
     },
     "execution_count": 9,
     "metadata": {},
     "output_type": "execute_result"
    }
   ],
   "source": [
    "# Since both datasets have the same column names and index number, they can be concatenated to have the train dataset.\n",
    "\n",
    "train_data = pd.concat([df1, df3])\n",
    "\n",
    "# Saving the train dataset to a new csv file.\n",
    "train_data.to_csv('Train-Data.csv')\n",
    "\n",
    "train_data.head()"
   ]
  },
  {
   "cell_type": "markdown",
   "metadata": {},
   "source": [
    "## Accessing the second dataset (test dataset)"
   ]
  },
  {
   "cell_type": "code",
   "execution_count": 10,
   "metadata": {},
   "outputs": [
    {
     "data": {
      "text/html": [
       "<div>\n",
       "<style scoped>\n",
       "    .dataframe tbody tr th:only-of-type {\n",
       "        vertical-align: middle;\n",
       "    }\n",
       "\n",
       "    .dataframe tbody tr th {\n",
       "        vertical-align: top;\n",
       "    }\n",
       "\n",
       "    .dataframe thead th {\n",
       "        text-align: right;\n",
       "    }\n",
       "</style>\n",
       "<table border=\"1\" class=\"dataframe\">\n",
       "  <thead>\n",
       "    <tr style=\"text-align: right;\">\n",
       "      <th></th>\n",
       "      <th>customerID</th>\n",
       "      <th>gender</th>\n",
       "      <th>SeniorCitizen</th>\n",
       "      <th>Partner</th>\n",
       "      <th>Dependents</th>\n",
       "      <th>tenure</th>\n",
       "      <th>PhoneService</th>\n",
       "      <th>MultipleLines</th>\n",
       "      <th>InternetService</th>\n",
       "      <th>OnlineSecurity</th>\n",
       "      <th>OnlineBackup</th>\n",
       "      <th>DeviceProtection</th>\n",
       "      <th>TechSupport</th>\n",
       "      <th>StreamingTV</th>\n",
       "      <th>StreamingMovies</th>\n",
       "      <th>Contract</th>\n",
       "      <th>PaperlessBilling</th>\n",
       "      <th>PaymentMethod</th>\n",
       "      <th>MonthlyCharges</th>\n",
       "      <th>TotalCharges</th>\n",
       "    </tr>\n",
       "  </thead>\n",
       "  <tbody>\n",
       "    <tr>\n",
       "      <th>0</th>\n",
       "      <td>7613-LLQFO</td>\n",
       "      <td>Male</td>\n",
       "      <td>0</td>\n",
       "      <td>No</td>\n",
       "      <td>No</td>\n",
       "      <td>12</td>\n",
       "      <td>Yes</td>\n",
       "      <td>Yes</td>\n",
       "      <td>Fiber optic</td>\n",
       "      <td>No</td>\n",
       "      <td>No</td>\n",
       "      <td>No</td>\n",
       "      <td>No</td>\n",
       "      <td>Yes</td>\n",
       "      <td>No</td>\n",
       "      <td>Month-to-month</td>\n",
       "      <td>Yes</td>\n",
       "      <td>Electronic check</td>\n",
       "      <td>84.45</td>\n",
       "      <td>1059.55</td>\n",
       "    </tr>\n",
       "    <tr>\n",
       "      <th>1</th>\n",
       "      <td>4568-TTZRT</td>\n",
       "      <td>Male</td>\n",
       "      <td>0</td>\n",
       "      <td>No</td>\n",
       "      <td>No</td>\n",
       "      <td>9</td>\n",
       "      <td>Yes</td>\n",
       "      <td>No</td>\n",
       "      <td>No</td>\n",
       "      <td>No internet service</td>\n",
       "      <td>No internet service</td>\n",
       "      <td>No internet service</td>\n",
       "      <td>No internet service</td>\n",
       "      <td>No internet service</td>\n",
       "      <td>No internet service</td>\n",
       "      <td>Month-to-month</td>\n",
       "      <td>No</td>\n",
       "      <td>Mailed check</td>\n",
       "      <td>20.40</td>\n",
       "      <td>181.8</td>\n",
       "    </tr>\n",
       "    <tr>\n",
       "      <th>2</th>\n",
       "      <td>9513-DXHDA</td>\n",
       "      <td>Male</td>\n",
       "      <td>0</td>\n",
       "      <td>No</td>\n",
       "      <td>No</td>\n",
       "      <td>27</td>\n",
       "      <td>Yes</td>\n",
       "      <td>No</td>\n",
       "      <td>DSL</td>\n",
       "      <td>Yes</td>\n",
       "      <td>No</td>\n",
       "      <td>Yes</td>\n",
       "      <td>Yes</td>\n",
       "      <td>Yes</td>\n",
       "      <td>Yes</td>\n",
       "      <td>One year</td>\n",
       "      <td>No</td>\n",
       "      <td>Electronic check</td>\n",
       "      <td>81.70</td>\n",
       "      <td>2212.55</td>\n",
       "    </tr>\n",
       "    <tr>\n",
       "      <th>3</th>\n",
       "      <td>2640-PMGFL</td>\n",
       "      <td>Male</td>\n",
       "      <td>0</td>\n",
       "      <td>No</td>\n",
       "      <td>Yes</td>\n",
       "      <td>27</td>\n",
       "      <td>Yes</td>\n",
       "      <td>Yes</td>\n",
       "      <td>Fiber optic</td>\n",
       "      <td>No</td>\n",
       "      <td>No</td>\n",
       "      <td>No</td>\n",
       "      <td>Yes</td>\n",
       "      <td>No</td>\n",
       "      <td>No</td>\n",
       "      <td>Month-to-month</td>\n",
       "      <td>Yes</td>\n",
       "      <td>Electronic check</td>\n",
       "      <td>79.50</td>\n",
       "      <td>2180.55</td>\n",
       "    </tr>\n",
       "    <tr>\n",
       "      <th>4</th>\n",
       "      <td>3801-HMYNL</td>\n",
       "      <td>Male</td>\n",
       "      <td>0</td>\n",
       "      <td>Yes</td>\n",
       "      <td>Yes</td>\n",
       "      <td>1</td>\n",
       "      <td>Yes</td>\n",
       "      <td>No</td>\n",
       "      <td>Fiber optic</td>\n",
       "      <td>No</td>\n",
       "      <td>No</td>\n",
       "      <td>No</td>\n",
       "      <td>No</td>\n",
       "      <td>Yes</td>\n",
       "      <td>Yes</td>\n",
       "      <td>Month-to-month</td>\n",
       "      <td>No</td>\n",
       "      <td>Mailed check</td>\n",
       "      <td>89.15</td>\n",
       "      <td>89.15</td>\n",
       "    </tr>\n",
       "  </tbody>\n",
       "</table>\n",
       "</div>"
      ],
      "text/plain": [
       "   customerID gender  SeniorCitizen Partner Dependents  tenure PhoneService   \n",
       "0  7613-LLQFO   Male              0      No         No      12          Yes  \\\n",
       "1  4568-TTZRT   Male              0      No         No       9          Yes   \n",
       "2  9513-DXHDA   Male              0      No         No      27          Yes   \n",
       "3  2640-PMGFL   Male              0      No        Yes      27          Yes   \n",
       "4  3801-HMYNL   Male              0     Yes        Yes       1          Yes   \n",
       "\n",
       "  MultipleLines InternetService       OnlineSecurity         OnlineBackup   \n",
       "0           Yes     Fiber optic                   No                   No  \\\n",
       "1            No              No  No internet service  No internet service   \n",
       "2            No             DSL                  Yes                   No   \n",
       "3           Yes     Fiber optic                   No                   No   \n",
       "4            No     Fiber optic                   No                   No   \n",
       "\n",
       "      DeviceProtection          TechSupport          StreamingTV   \n",
       "0                   No                   No                  Yes  \\\n",
       "1  No internet service  No internet service  No internet service   \n",
       "2                  Yes                  Yes                  Yes   \n",
       "3                   No                  Yes                   No   \n",
       "4                   No                   No                  Yes   \n",
       "\n",
       "       StreamingMovies        Contract PaperlessBilling     PaymentMethod   \n",
       "0                   No  Month-to-month              Yes  Electronic check  \\\n",
       "1  No internet service  Month-to-month               No      Mailed check   \n",
       "2                  Yes        One year               No  Electronic check   \n",
       "3                   No  Month-to-month              Yes  Electronic check   \n",
       "4                  Yes  Month-to-month               No      Mailed check   \n",
       "\n",
       "   MonthlyCharges TotalCharges  \n",
       "0           84.45      1059.55  \n",
       "1           20.40        181.8  \n",
       "2           81.70      2212.55  \n",
       "3           79.50      2180.55  \n",
       "4           89.15        89.15  "
      ]
     },
     "execution_count": 10,
     "metadata": {},
     "output_type": "execute_result"
    }
   ],
   "source": [
    "# Loading the test dataset.\n",
    "\n",
    "test_data = pd.read_excel('Telco-churn-second-2000.xlsx')\n",
    "test_data.head()"
   ]
  },
  {
   "cell_type": "markdown",
   "metadata": {},
   "source": [
    "## EDA"
   ]
  },
  {
   "cell_type": "code",
   "execution_count": 11,
   "metadata": {},
   "outputs": [
    {
     "data": {
      "text/plain": [
       "(5043, 21)"
      ]
     },
     "execution_count": 11,
     "metadata": {},
     "output_type": "execute_result"
    }
   ],
   "source": [
    "# Checking the number of rows and columns on the train dataset.\n",
    "\n",
    "train_data.shape"
   ]
  },
  {
   "cell_type": "code",
   "execution_count": 12,
   "metadata": {},
   "outputs": [
    {
     "data": {
      "text/plain": [
       "(2000, 20)"
      ]
     },
     "execution_count": 12,
     "metadata": {},
     "output_type": "execute_result"
    }
   ],
   "source": [
    "# Checking the number of rows and columns on the test dataset.\n",
    "\n",
    "test_data.shape"
   ]
  },
  {
   "cell_type": "markdown",
   "metadata": {},
   "source": [
    "The train dataset has 5043 columns and 21 columns while the test dataset has 2000 rows and 20 columns. Let's identify the column in the train dataset that is absent in the test dataset."
   ]
  },
  {
   "cell_type": "code",
   "execution_count": 13,
   "metadata": {},
   "outputs": [
    {
     "data": {
      "text/plain": [
       "Index(['customerID', 'gender', 'SeniorCitizen', 'Partner', 'Dependents',\n",
       "       'tenure', 'PhoneService', 'MultipleLines', 'InternetService',\n",
       "       'OnlineSecurity', 'OnlineBackup', 'DeviceProtection', 'TechSupport',\n",
       "       'StreamingTV', 'StreamingMovies', 'Contract', 'PaperlessBilling',\n",
       "       'PaymentMethod', 'MonthlyCharges', 'TotalCharges', 'Churn'],\n",
       "      dtype='object')"
      ]
     },
     "execution_count": 13,
     "metadata": {},
     "output_type": "execute_result"
    }
   ],
   "source": [
    "# Inspecting the columns of the train dataset.\n",
    "\n",
    "train_data.columns"
   ]
  },
  {
   "cell_type": "code",
   "execution_count": 14,
   "metadata": {},
   "outputs": [
    {
     "data": {
      "text/plain": [
       "Index(['customerID', 'gender', 'SeniorCitizen', 'Partner', 'Dependents',\n",
       "       'tenure', 'PhoneService', 'MultipleLines', 'InternetService',\n",
       "       'OnlineSecurity', 'OnlineBackup', 'DeviceProtection', 'TechSupport',\n",
       "       'StreamingTV', 'StreamingMovies', 'Contract', 'PaperlessBilling',\n",
       "       'PaymentMethod', 'MonthlyCharges', 'TotalCharges'],\n",
       "      dtype='object')"
      ]
     },
     "execution_count": 14,
     "metadata": {},
     "output_type": "execute_result"
    }
   ],
   "source": [
    "# Inspecting the columns of the test dataset.\n",
    "\n",
    "test_data.columns"
   ]
  },
  {
   "cell_type": "markdown",
   "metadata": {},
   "source": [
    "As can be seen, the test dataset has the same columns as the train dataset with the exception of the churn column which can be found on the train dataset alone. This is understandable as the churn column on the train dataset provides information on whether customers churn or  not, which is used to build the best ML model. This column is not needed on the test dataset, rather the model built is tested on the test dataset to check the ability of the model to predict whether a customet will churn or not."
   ]
  },
  {
   "cell_type": "code",
   "execution_count": 15,
   "metadata": {},
   "outputs": [
    {
     "name": "stdout",
     "output_type": "stream",
     "text": [
      "<class 'pandas.core.frame.DataFrame'>\n",
      "Index: 5043 entries, 0 to 2042\n",
      "Data columns (total 21 columns):\n",
      " #   Column            Non-Null Count  Dtype  \n",
      "---  ------            --------------  -----  \n",
      " 0   customerID        5043 non-null   object \n",
      " 1   gender            5043 non-null   object \n",
      " 2   SeniorCitizen     5043 non-null   object \n",
      " 3   Partner           5043 non-null   object \n",
      " 4   Dependents        5043 non-null   object \n",
      " 5   tenure            5043 non-null   int64  \n",
      " 6   PhoneService      5043 non-null   object \n",
      " 7   MultipleLines     4774 non-null   object \n",
      " 8   InternetService   5043 non-null   object \n",
      " 9   OnlineSecurity    4392 non-null   object \n",
      " 10  OnlineBackup      4392 non-null   object \n",
      " 11  DeviceProtection  4392 non-null   object \n",
      " 12  TechSupport       4392 non-null   object \n",
      " 13  StreamingTV       4392 non-null   object \n",
      " 14  StreamingMovies   4392 non-null   object \n",
      " 15  Contract          5043 non-null   object \n",
      " 16  PaperlessBilling  5043 non-null   object \n",
      " 17  PaymentMethod     5043 non-null   object \n",
      " 18  MonthlyCharges    5043 non-null   float64\n",
      " 19  TotalCharges      5038 non-null   object \n",
      " 20  Churn             5042 non-null   object \n",
      "dtypes: float64(1), int64(1), object(19)\n",
      "memory usage: 866.8+ KB\n"
     ]
    }
   ],
   "source": [
    "# Checking the datatypes and the presence of missing values on the train dataset.\n",
    "\n",
    "train_data.info()"
   ]
  },
  {
   "cell_type": "code",
   "execution_count": 16,
   "metadata": {},
   "outputs": [
    {
     "name": "stdout",
     "output_type": "stream",
     "text": [
      "<class 'pandas.core.frame.DataFrame'>\n",
      "RangeIndex: 2000 entries, 0 to 1999\n",
      "Data columns (total 20 columns):\n",
      " #   Column            Non-Null Count  Dtype  \n",
      "---  ------            --------------  -----  \n",
      " 0   customerID        2000 non-null   object \n",
      " 1   gender            2000 non-null   object \n",
      " 2   SeniorCitizen     2000 non-null   int64  \n",
      " 3   Partner           2000 non-null   object \n",
      " 4   Dependents        2000 non-null   object \n",
      " 5   tenure            2000 non-null   int64  \n",
      " 6   PhoneService      2000 non-null   object \n",
      " 7   MultipleLines     2000 non-null   object \n",
      " 8   InternetService   2000 non-null   object \n",
      " 9   OnlineSecurity    2000 non-null   object \n",
      " 10  OnlineBackup      2000 non-null   object \n",
      " 11  DeviceProtection  2000 non-null   object \n",
      " 12  TechSupport       2000 non-null   object \n",
      " 13  StreamingTV       2000 non-null   object \n",
      " 14  StreamingMovies   2000 non-null   object \n",
      " 15  Contract          2000 non-null   object \n",
      " 16  PaperlessBilling  2000 non-null   object \n",
      " 17  PaymentMethod     2000 non-null   object \n",
      " 18  MonthlyCharges    2000 non-null   float64\n",
      " 19  TotalCharges      2000 non-null   object \n",
      "dtypes: float64(1), int64(2), object(17)\n",
      "memory usage: 312.6+ KB\n"
     ]
    }
   ],
   "source": [
    "# Checking the datatypes and the presence of missing values on the test dataset.\n",
    "\n",
    "test_data.info()"
   ]
  },
  {
   "cell_type": "markdown",
   "metadata": {},
   "source": [
    "Note that the datatype of the 'SeniorCitizen' column is an object on the train data but an integer on the test data."
   ]
  },
  {
   "cell_type": "code",
   "execution_count": 17,
   "metadata": {},
   "outputs": [
    {
     "data": {
      "text/plain": [
       "customerID            0\n",
       "gender                0\n",
       "SeniorCitizen         0\n",
       "Partner               0\n",
       "Dependents            0\n",
       "tenure                0\n",
       "PhoneService          0\n",
       "MultipleLines       269\n",
       "InternetService       0\n",
       "OnlineSecurity      651\n",
       "OnlineBackup        651\n",
       "DeviceProtection    651\n",
       "TechSupport         651\n",
       "StreamingTV         651\n",
       "StreamingMovies     651\n",
       "Contract              0\n",
       "PaperlessBilling      0\n",
       "PaymentMethod         0\n",
       "MonthlyCharges        0\n",
       "TotalCharges          5\n",
       "Churn                 1\n",
       "dtype: int64"
      ]
     },
     "execution_count": 17,
     "metadata": {},
     "output_type": "execute_result"
    }
   ],
   "source": [
    "# Confirming the number of cells with missing values on each column of the train dataset.\n",
    "\n",
    "train_data.isna().sum()"
   ]
  },
  {
   "cell_type": "markdown",
   "metadata": {},
   "source": [
    "The 'MultipleLines' column has 269 missing values. The 'OnlineSecurity', 'OnlineBackup', 'DeviceProtection', 'TechSupport', 'StreamingTV' and 'StreamingMovies' columns all have 651 missing values. This needs to be evaluated further to find out if these missing values are exactly on the same rows. The 'TotalCharges' column has 5 missing values while the 'Churn' column has 1 missing value."
   ]
  },
  {
   "cell_type": "code",
   "execution_count": 18,
   "metadata": {},
   "outputs": [
    {
     "data": {
      "text/plain": [
       "customerID          0\n",
       "gender              0\n",
       "SeniorCitizen       0\n",
       "Partner             0\n",
       "Dependents          0\n",
       "tenure              0\n",
       "PhoneService        0\n",
       "MultipleLines       0\n",
       "InternetService     0\n",
       "OnlineSecurity      0\n",
       "OnlineBackup        0\n",
       "DeviceProtection    0\n",
       "TechSupport         0\n",
       "StreamingTV         0\n",
       "StreamingMovies     0\n",
       "Contract            0\n",
       "PaperlessBilling    0\n",
       "PaymentMethod       0\n",
       "MonthlyCharges      0\n",
       "TotalCharges        0\n",
       "dtype: int64"
      ]
     },
     "execution_count": 18,
     "metadata": {},
     "output_type": "execute_result"
    }
   ],
   "source": [
    "# Confirming that there are no missing values on the test dataset.\n",
    "\n",
    "test_data.isna().sum()"
   ]
  },
  {
   "cell_type": "markdown",
   "metadata": {},
   "source": [
    "There are no missing values on the test dataset."
   ]
  },
  {
   "cell_type": "code",
   "execution_count": 19,
   "metadata": {},
   "outputs": [
    {
     "data": {
      "text/plain": [
       "0"
      ]
     },
     "execution_count": 19,
     "metadata": {},
     "output_type": "execute_result"
    }
   ],
   "source": [
    "# Checking for the presence of duplicates on the train dataset.\n",
    "\n",
    "train_data.duplicated().sum()"
   ]
  },
  {
   "cell_type": "markdown",
   "metadata": {},
   "source": [
    "There are no duplicate rows on the train dataset."
   ]
  },
  {
   "cell_type": "code",
   "execution_count": 20,
   "metadata": {},
   "outputs": [
    {
     "data": {
      "text/plain": [
       "0"
      ]
     },
     "execution_count": 20,
     "metadata": {},
     "output_type": "execute_result"
    }
   ],
   "source": [
    "# Checking for the presence of duplicates on the test dataset.\n",
    "\n",
    "test_data.duplicated().sum()"
   ]
  },
  {
   "cell_type": "markdown",
   "metadata": {},
   "source": [
    "There are no duplicate rows on the test dataset."
   ]
  },
  {
   "cell_type": "markdown",
   "metadata": {},
   "source": [
    "# Data Transformation"
   ]
  },
  {
   "cell_type": "code",
   "execution_count": 21,
   "metadata": {},
   "outputs": [
    {
     "name": "stdout",
     "output_type": "stream",
     "text": [
      "column: customerID - unique value: ['7590-VHVEG' '5575-GNVDE' '3668-QPYBK' ... '4801-JZAZL' '8361-LTMKD'\n",
      " '3186-AJIEK']\n",
      "column: gender - unique value: ['Female' 'Male']\n",
      "column: SeniorCitizen - unique value: [False True]\n",
      "column: Partner - unique value: [True False 'No' 'Yes']\n",
      "column: Dependents - unique value: [False True 'No' 'Yes']\n",
      "column: tenure - unique value: [ 1 34  2 45  8 22 10 28 62 13 16 58 49 25 69 52 71 21 12 30 47 72 17 27\n",
      "  5 46 11 70 63 43 15 60 18 66  9  3 31 50 64 56  7 42 35 48 29 65 38 68\n",
      " 32 55 37 36 41  6  4 33 67 23 57 61 14 20 53 40 59 24 44 19 54 51 26  0\n",
      " 39]\n",
      "column: PhoneService - unique value: [False True 'Yes' 'No']\n",
      "column: MultipleLines - unique value: [None False True 'No' 'No phone service' 'Yes']\n",
      "column: InternetService - unique value: ['DSL' 'Fiber optic' 'No']\n",
      "column: OnlineSecurity - unique value: [False True None 'No' 'Yes' 'No internet service']\n",
      "column: OnlineBackup - unique value: [True False None 'No' 'Yes' 'No internet service']\n",
      "column: DeviceProtection - unique value: [False True None 'No' 'Yes' 'No internet service']\n",
      "column: TechSupport - unique value: [False True None 'Yes' 'No' 'No internet service']\n",
      "column: StreamingTV - unique value: [False True None 'No' 'Yes' 'No internet service']\n",
      "column: StreamingMovies - unique value: [False True None 'No' 'Yes' 'No internet service']\n",
      "column: Contract - unique value: ['Month-to-month' 'One year' 'Two year']\n",
      "column: PaperlessBilling - unique value: [True False 'Yes' 'No']\n",
      "column: PaymentMethod - unique value: ['Electronic check' 'Mailed check' 'Bank transfer (automatic)'\n",
      " 'Credit card (automatic)']\n",
      "column: MonthlyCharges - unique value: [ 29.85000038  56.95000076  53.84999847 ...  78.7         60.65\n",
      " 103.2       ]\n",
      "column: TotalCharges - unique value: [29.850000381469727 1889.5 108.1500015258789 ... '346.45' '306.6' '6844.5']\n",
      "column: Churn - unique value: [False True None 'No' 'Yes']\n"
     ]
    }
   ],
   "source": [
    "# Investigating the columns on the train dataset.\n",
    "\n",
    "train_data.columns\n",
    "for column in train_data.columns:\n",
    "    print('column: {} - unique value: {}'.format(column, train_data[column].unique()))"
   ]
  },
  {
   "cell_type": "markdown",
   "metadata": {},
   "source": [
    "There are many coloumns with unnecessary values such as True, False, 'No phone service' and/or  'No internet service'.\n",
    "These values will be replaced with 'Yes' or 'No' as appropriate to ensure consistency.\n",
    "\n",
    "True will be replaced with 'Yes' because True means that the customers receive those services. While False, 'No phone service' and 'No internet service' will be replaced with 'No' because they mean that the customers do not (or cannot) receive those services. "
   ]
  },
  {
   "cell_type": "code",
   "execution_count": 22,
   "metadata": {},
   "outputs": [
    {
     "name": "stdout",
     "output_type": "stream",
     "text": [
      "column: customerID - unique value: ['7590-VHVEG' '5575-GNVDE' '3668-QPYBK' ... '4801-JZAZL' '8361-LTMKD'\n",
      " '3186-AJIEK']\n",
      "column: gender - unique value: ['Female' 'Male']\n",
      "column: SeniorCitizen - unique value: ['No' 'Yes']\n",
      "column: Partner - unique value: ['Yes' 'No']\n",
      "column: Dependents - unique value: ['No' 'Yes']\n",
      "column: tenure - unique value: [ 1 34  2 45  8 22 10 28 62 13 16 58 49 25 69 52 71 21 12 30 47 72 17 27\n",
      "  5 46 11 70 63 43 15 60 18 66  9  3 31 50 64 56  7 42 35 48 29 65 38 68\n",
      " 32 55 37 36 41  6  4 33 67 23 57 61 14 20 53 40 59 24 44 19 54 51 26  0\n",
      " 39]\n",
      "column: PhoneService - unique value: ['No' 'Yes']\n",
      "column: MultipleLines - unique value: [None 'No' 'Yes']\n",
      "column: InternetService - unique value: ['DSL' 'Fiber optic' 'No']\n",
      "column: OnlineSecurity - unique value: ['No' 'Yes' None]\n",
      "column: OnlineBackup - unique value: ['Yes' 'No' None]\n",
      "column: DeviceProtection - unique value: ['No' 'Yes' None]\n",
      "column: TechSupport - unique value: ['No' 'Yes' None]\n",
      "column: StreamingTV - unique value: ['No' 'Yes' None]\n",
      "column: StreamingMovies - unique value: ['No' 'Yes' None]\n",
      "column: Contract - unique value: ['Month-to-month' 'One year' 'Two year']\n",
      "column: PaperlessBilling - unique value: ['Yes' 'No']\n",
      "column: PaymentMethod - unique value: ['Electronic check' 'Mailed check' 'Bank transfer (automatic)'\n",
      " 'Credit card (automatic)']\n",
      "column: MonthlyCharges - unique value: [ 29.85000038  56.95000076  53.84999847 ...  78.7         60.65\n",
      " 103.2       ]\n",
      "column: TotalCharges - unique value: [29.850000381469727 1889.5 108.1500015258789 ... '346.45' '306.6' '6844.5']\n",
      "column: Churn - unique value: ['No' 'Yes' None]\n"
     ]
    }
   ],
   "source": [
    "# Replace True with 'Yes' and replacing False, 'No internet service' and 'No phone service' with 'No' in the train dataset.\n",
    "\n",
    "train_data = train_data.replace({\n",
    "    True: 'Yes',\n",
    "    False: 'No',\n",
    "    'No internet service': 'No',\n",
    "    'No phone service': 'No'\n",
    "}, inplace = False)\n",
    "\n",
    "# Confirming that the changes on the train dataset have been effected.\n",
    "\n",
    "train_data.columns\n",
    "for column in train_data.columns:\n",
    "    print('column: {} - unique value: {}'.format(column, train_data[column].unique()))"
   ]
  },
  {
   "cell_type": "markdown",
   "metadata": {},
   "source": [
    "None is the Boolean representation of missing values. The columns with None are all categorical columns. The mode of these columns will be obtained and used to replace None."
   ]
  },
  {
   "cell_type": "code",
   "execution_count": 23,
   "metadata": {},
   "outputs": [
    {
     "name": "stdout",
     "output_type": "stream",
     "text": [
      "column: customerID - unique value: ['7590-VHVEG' '5575-GNVDE' '3668-QPYBK' ... '4801-JZAZL' '8361-LTMKD'\n",
      " '3186-AJIEK']\n",
      "column: gender - unique value: ['Female' 'Male']\n",
      "column: SeniorCitizen - unique value: ['No' 'Yes']\n",
      "column: Partner - unique value: ['Yes' 'No']\n",
      "column: Dependents - unique value: ['No' 'Yes']\n",
      "column: tenure - unique value: [ 1 34  2 45  8 22 10 28 62 13 16 58 49 25 69 52 71 21 12 30 47 72 17 27\n",
      "  5 46 11 70 63 43 15 60 18 66  9  3 31 50 64 56  7 42 35 48 29 65 38 68\n",
      " 32 55 37 36 41  6  4 33 67 23 57 61 14 20 53 40 59 24 44 19 54 51 26  0\n",
      " 39]\n",
      "column: PhoneService - unique value: ['No' 'Yes']\n",
      "column: MultipleLines - unique value: ['No' 'Yes']\n",
      "column: InternetService - unique value: ['DSL' 'Fiber optic' 'No']\n",
      "column: OnlineSecurity - unique value: ['No' 'Yes']\n",
      "column: OnlineBackup - unique value: ['Yes' 'No']\n",
      "column: DeviceProtection - unique value: ['No' 'Yes']\n",
      "column: TechSupport - unique value: ['No' 'Yes']\n",
      "column: StreamingTV - unique value: ['No' 'Yes']\n",
      "column: StreamingMovies - unique value: ['No' 'Yes']\n",
      "column: Contract - unique value: ['Month-to-month' 'One year' 'Two year']\n",
      "column: PaperlessBilling - unique value: ['Yes' 'No']\n",
      "column: PaymentMethod - unique value: ['Electronic check' 'Mailed check' 'Bank transfer (automatic)'\n",
      " 'Credit card (automatic)']\n",
      "column: MonthlyCharges - unique value: [ 29.85000038  56.95000076  53.84999847 ...  78.7         60.65\n",
      " 103.2       ]\n",
      "column: TotalCharges - unique value: [29.850000381469727 1889.5 108.1500015258789 ... '346.45' '306.6' '6844.5']\n",
      "column: Churn - unique value: ['No' 'Yes']\n"
     ]
    }
   ],
   "source": [
    "# Replace None on each column with the mode of the column.\n",
    "\n",
    "def replace_none_with_mode(train_data):\n",
    "   categorical_cols = train_data.select_dtypes(include='object').columns  # Select categorical columns\n",
    "\n",
    "   for col in categorical_cols:\n",
    "       mode_val = train_data[col].mode()[0]  # Calculate the mode of the column\n",
    "       train_data[col] = train_data[col].replace({None: mode_val})  # Replace None values with the mode\n",
    "\n",
    "   return train_data\n",
    "train_data = replace_none_with_mode(train_data)\n",
    "\n",
    "# Confirming that the changes on the train dataset have been effected.\n",
    "\n",
    "train_data.columns\n",
    "for column in train_data.columns:\n",
    "    print('column: {} - unique value: {}'.format(column, train_data[column].unique()))"
   ]
  },
  {
   "cell_type": "code",
   "execution_count": 24,
   "metadata": {},
   "outputs": [],
   "source": [
    "# Drop the customerID column from the train dataset since it has unique values that are non-beneficial to our modelling\n",
    "\n",
    "train_data.drop(columns='customerID', inplace=True)"
   ]
  },
  {
   "cell_type": "code",
   "execution_count": 25,
   "metadata": {},
   "outputs": [
    {
     "data": {
      "text/plain": [
       "gender              0\n",
       "SeniorCitizen       0\n",
       "Partner             0\n",
       "Dependents          0\n",
       "tenure              0\n",
       "PhoneService        0\n",
       "MultipleLines       0\n",
       "InternetService     0\n",
       "OnlineSecurity      0\n",
       "OnlineBackup        0\n",
       "DeviceProtection    0\n",
       "TechSupport         0\n",
       "StreamingTV         0\n",
       "StreamingMovies     0\n",
       "Contract            0\n",
       "PaperlessBilling    0\n",
       "PaymentMethod       0\n",
       "MonthlyCharges      0\n",
       "TotalCharges        0\n",
       "Churn               0\n",
       "dtype: int64"
      ]
     },
     "execution_count": 25,
     "metadata": {},
     "output_type": "execute_result"
    }
   ],
   "source": [
    "# Checking for missing values on the train dataset.\n",
    "\n",
    "train_data.isna().sum()"
   ]
  },
  {
   "cell_type": "markdown",
   "metadata": {},
   "source": [
    "The train dataset no longer has missing values. This is because None values (which is a boolean representation of missing values) has been changed to No."
   ]
  },
  {
   "cell_type": "code",
   "execution_count": 26,
   "metadata": {},
   "outputs": [
    {
     "name": "stdout",
     "output_type": "stream",
     "text": [
      "<class 'pandas.core.frame.DataFrame'>\n",
      "Index: 5043 entries, 0 to 2042\n",
      "Data columns (total 20 columns):\n",
      " #   Column            Non-Null Count  Dtype  \n",
      "---  ------            --------------  -----  \n",
      " 0   gender            5043 non-null   object \n",
      " 1   SeniorCitizen     5043 non-null   object \n",
      " 2   Partner           5043 non-null   object \n",
      " 3   Dependents        5043 non-null   object \n",
      " 4   tenure            5043 non-null   int64  \n",
      " 5   PhoneService      5043 non-null   object \n",
      " 6   MultipleLines     5043 non-null   object \n",
      " 7   InternetService   5043 non-null   object \n",
      " 8   OnlineSecurity    5043 non-null   object \n",
      " 9   OnlineBackup      5043 non-null   object \n",
      " 10  DeviceProtection  5043 non-null   object \n",
      " 11  TechSupport       5043 non-null   object \n",
      " 12  StreamingTV       5043 non-null   object \n",
      " 13  StreamingMovies   5043 non-null   object \n",
      " 14  Contract          5043 non-null   object \n",
      " 15  PaperlessBilling  5043 non-null   object \n",
      " 16  PaymentMethod     5043 non-null   object \n",
      " 17  MonthlyCharges    5043 non-null   float64\n",
      " 18  TotalCharges      5043 non-null   object \n",
      " 19  Churn             5043 non-null   object \n",
      "dtypes: float64(1), int64(1), object(18)\n",
      "memory usage: 827.4+ KB\n"
     ]
    }
   ],
   "source": [
    "train_data.info()"
   ]
  },
  {
   "cell_type": "markdown",
   "metadata": {},
   "source": [
    "Total Charges column has an object datatype. This needs to be converted to float to enable us do some calculations on the column. The column will be investigated to see some of its features."
   ]
  },
  {
   "cell_type": "code",
   "execution_count": 27,
   "metadata": {},
   "outputs": [
    {
     "data": {
      "text/plain": [
       "array([29.850000381469727, 1889.5, 108.1500015258789, ..., '346.45',\n",
       "       '306.6', '6844.5'], dtype=object)"
      ]
     },
     "execution_count": 27,
     "metadata": {},
     "output_type": "execute_result"
    }
   ],
   "source": [
    "# Investigating the 'TotalCharges' column in the train dataset.\n",
    "\n",
    "train_data['TotalCharges'].unique()"
   ]
  },
  {
   "cell_type": "code",
   "execution_count": 28,
   "metadata": {},
   "outputs": [
    {
     "name": "stdout",
     "output_type": "stream",
     "text": [
      "<class 'pandas.core.frame.DataFrame'>\n",
      "Index: 5043 entries, 0 to 2042\n",
      "Data columns (total 20 columns):\n",
      " #   Column            Non-Null Count  Dtype  \n",
      "---  ------            --------------  -----  \n",
      " 0   gender            5043 non-null   object \n",
      " 1   SeniorCitizen     5043 non-null   object \n",
      " 2   Partner           5043 non-null   object \n",
      " 3   Dependents        5043 non-null   object \n",
      " 4   tenure            5043 non-null   int64  \n",
      " 5   PhoneService      5043 non-null   object \n",
      " 6   MultipleLines     5043 non-null   object \n",
      " 7   InternetService   5043 non-null   object \n",
      " 8   OnlineSecurity    5043 non-null   object \n",
      " 9   OnlineBackup      5043 non-null   object \n",
      " 10  DeviceProtection  5043 non-null   object \n",
      " 11  TechSupport       5043 non-null   object \n",
      " 12  StreamingTV       5043 non-null   object \n",
      " 13  StreamingMovies   5043 non-null   object \n",
      " 14  Contract          5043 non-null   object \n",
      " 15  PaperlessBilling  5043 non-null   object \n",
      " 16  PaymentMethod     5043 non-null   object \n",
      " 17  MonthlyCharges    5043 non-null   float64\n",
      " 18  TotalCharges      5040 non-null   float64\n",
      " 19  Churn             5043 non-null   object \n",
      "dtypes: float64(2), int64(1), object(17)\n",
      "memory usage: 827.4+ KB\n"
     ]
    }
   ],
   "source": [
    "# Converting the datatype of the 'TotalCharges' column in the train dataset to float by changing the contents to\n",
    "# numerical values.\n",
    "\n",
    "\n",
    "train_data['TotalCharges'] = pd.to_numeric(train_data['TotalCharges'], errors = 'coerce')\n",
    "train_data.info()"
   ]
  },
  {
   "cell_type": "code",
   "execution_count": 29,
   "metadata": {},
   "outputs": [
    {
     "data": {
      "text/plain": [
       "gender              0\n",
       "SeniorCitizen       0\n",
       "Partner             0\n",
       "Dependents          0\n",
       "tenure              0\n",
       "PhoneService        0\n",
       "MultipleLines       0\n",
       "InternetService     0\n",
       "OnlineSecurity      0\n",
       "OnlineBackup        0\n",
       "DeviceProtection    0\n",
       "TechSupport         0\n",
       "StreamingTV         0\n",
       "StreamingMovies     0\n",
       "Contract            0\n",
       "PaperlessBilling    0\n",
       "PaymentMethod       0\n",
       "MonthlyCharges      0\n",
       "TotalCharges        3\n",
       "Churn               0\n",
       "dtype: int64"
      ]
     },
     "execution_count": 29,
     "metadata": {},
     "output_type": "execute_result"
    }
   ],
   "source": [
    "# Checking for missing values\n",
    "\n",
    "train_data.isna().sum()"
   ]
  },
  {
   "cell_type": "markdown",
   "metadata": {},
   "source": [
    "The 'TotalCharges' column now has three missing values. These will be replaced with the mean value since it's now a numerical column."
   ]
  },
  {
   "cell_type": "code",
   "execution_count": 30,
   "metadata": {},
   "outputs": [
    {
     "data": {
      "text/plain": [
       "gender              0\n",
       "SeniorCitizen       0\n",
       "Partner             0\n",
       "Dependents          0\n",
       "tenure              0\n",
       "PhoneService        0\n",
       "MultipleLines       0\n",
       "InternetService     0\n",
       "OnlineSecurity      0\n",
       "OnlineBackup        0\n",
       "DeviceProtection    0\n",
       "TechSupport         0\n",
       "StreamingTV         0\n",
       "StreamingMovies     0\n",
       "Contract            0\n",
       "PaperlessBilling    0\n",
       "PaymentMethod       0\n",
       "MonthlyCharges      0\n",
       "TotalCharges        0\n",
       "Churn               0\n",
       "dtype: int64"
      ]
     },
     "execution_count": 30,
     "metadata": {},
     "output_type": "execute_result"
    }
   ],
   "source": [
    "# Calculate the mean of the 'TotalCharges' column\n",
    "mean_value = train_data['TotalCharges'].mean()\n",
    "\n",
    "# Fill missing values with the mean value\n",
    "train_data['TotalCharges'] = train_data['TotalCharges'].fillna(mean_value)\n",
    "\n",
    "# Confirm that their are no missing values\n",
    "train_data.isna().sum()"
   ]
  },
  {
   "cell_type": "code",
   "execution_count": 31,
   "metadata": {},
   "outputs": [
    {
     "data": {
      "text/html": [
       "<div>\n",
       "<style scoped>\n",
       "    .dataframe tbody tr th:only-of-type {\n",
       "        vertical-align: middle;\n",
       "    }\n",
       "\n",
       "    .dataframe tbody tr th {\n",
       "        vertical-align: top;\n",
       "    }\n",
       "\n",
       "    .dataframe thead th {\n",
       "        text-align: right;\n",
       "    }\n",
       "</style>\n",
       "<table border=\"1\" class=\"dataframe\">\n",
       "  <thead>\n",
       "    <tr style=\"text-align: right;\">\n",
       "      <th></th>\n",
       "      <th>gender</th>\n",
       "      <th>SeniorCitizen</th>\n",
       "      <th>Partner</th>\n",
       "      <th>Dependents</th>\n",
       "      <th>PhoneService</th>\n",
       "      <th>MultipleLines</th>\n",
       "      <th>InternetService</th>\n",
       "      <th>OnlineSecurity</th>\n",
       "      <th>OnlineBackup</th>\n",
       "      <th>DeviceProtection</th>\n",
       "      <th>TechSupport</th>\n",
       "      <th>StreamingTV</th>\n",
       "      <th>StreamingMovies</th>\n",
       "      <th>Contract</th>\n",
       "      <th>PaperlessBilling</th>\n",
       "      <th>PaymentMethod</th>\n",
       "      <th>Churn</th>\n",
       "    </tr>\n",
       "  </thead>\n",
       "  <tbody>\n",
       "    <tr>\n",
       "      <th>count</th>\n",
       "      <td>5043</td>\n",
       "      <td>5043</td>\n",
       "      <td>5043</td>\n",
       "      <td>5043</td>\n",
       "      <td>5043</td>\n",
       "      <td>5043</td>\n",
       "      <td>5043</td>\n",
       "      <td>5043</td>\n",
       "      <td>5043</td>\n",
       "      <td>5043</td>\n",
       "      <td>5043</td>\n",
       "      <td>5043</td>\n",
       "      <td>5043</td>\n",
       "      <td>5043</td>\n",
       "      <td>5043</td>\n",
       "      <td>5043</td>\n",
       "      <td>5043</td>\n",
       "    </tr>\n",
       "    <tr>\n",
       "      <th>unique</th>\n",
       "      <td>2</td>\n",
       "      <td>2</td>\n",
       "      <td>2</td>\n",
       "      <td>2</td>\n",
       "      <td>2</td>\n",
       "      <td>2</td>\n",
       "      <td>3</td>\n",
       "      <td>2</td>\n",
       "      <td>2</td>\n",
       "      <td>2</td>\n",
       "      <td>2</td>\n",
       "      <td>2</td>\n",
       "      <td>2</td>\n",
       "      <td>3</td>\n",
       "      <td>2</td>\n",
       "      <td>4</td>\n",
       "      <td>2</td>\n",
       "    </tr>\n",
       "    <tr>\n",
       "      <th>top</th>\n",
       "      <td>Male</td>\n",
       "      <td>No</td>\n",
       "      <td>No</td>\n",
       "      <td>No</td>\n",
       "      <td>Yes</td>\n",
       "      <td>No</td>\n",
       "      <td>Fiber optic</td>\n",
       "      <td>No</td>\n",
       "      <td>No</td>\n",
       "      <td>No</td>\n",
       "      <td>No</td>\n",
       "      <td>No</td>\n",
       "      <td>No</td>\n",
       "      <td>Month-to-month</td>\n",
       "      <td>Yes</td>\n",
       "      <td>Electronic check</td>\n",
       "      <td>No</td>\n",
       "    </tr>\n",
       "    <tr>\n",
       "      <th>freq</th>\n",
       "      <td>2559</td>\n",
       "      <td>4224</td>\n",
       "      <td>2585</td>\n",
       "      <td>3482</td>\n",
       "      <td>4554</td>\n",
       "      <td>2913</td>\n",
       "      <td>2248</td>\n",
       "      <td>3587</td>\n",
       "      <td>3311</td>\n",
       "      <td>3299</td>\n",
       "      <td>3552</td>\n",
       "      <td>3098</td>\n",
       "      <td>3061</td>\n",
       "      <td>2744</td>\n",
       "      <td>2996</td>\n",
       "      <td>1700</td>\n",
       "      <td>3707</td>\n",
       "    </tr>\n",
       "  </tbody>\n",
       "</table>\n",
       "</div>"
      ],
      "text/plain": [
       "       gender SeniorCitizen Partner Dependents PhoneService MultipleLines   \n",
       "count    5043          5043    5043       5043         5043          5043  \\\n",
       "unique      2             2       2          2            2             2   \n",
       "top      Male            No      No         No          Yes            No   \n",
       "freq     2559          4224    2585       3482         4554          2913   \n",
       "\n",
       "       InternetService OnlineSecurity OnlineBackup DeviceProtection   \n",
       "count             5043           5043         5043             5043  \\\n",
       "unique               3              2            2                2   \n",
       "top        Fiber optic             No           No               No   \n",
       "freq              2248           3587         3311             3299   \n",
       "\n",
       "       TechSupport StreamingTV StreamingMovies        Contract   \n",
       "count         5043        5043            5043            5043  \\\n",
       "unique           2           2               2               3   \n",
       "top             No          No              No  Month-to-month   \n",
       "freq          3552        3098            3061            2744   \n",
       "\n",
       "       PaperlessBilling     PaymentMethod Churn  \n",
       "count              5043              5043  5043  \n",
       "unique                2                 4     2  \n",
       "top                 Yes  Electronic check    No  \n",
       "freq               2996              1700  3707  "
      ]
     },
     "execution_count": 31,
     "metadata": {},
     "output_type": "execute_result"
    }
   ],
   "source": [
    "# Evaluating the categorical values on the train dataset.\n",
    "\n",
    "train_data.describe(include = ['O'])"
   ]
  },
  {
   "cell_type": "code",
   "execution_count": 32,
   "metadata": {},
   "outputs": [
    {
     "data": {
      "text/html": [
       "<div>\n",
       "<style scoped>\n",
       "    .dataframe tbody tr th:only-of-type {\n",
       "        vertical-align: middle;\n",
       "    }\n",
       "\n",
       "    .dataframe tbody tr th {\n",
       "        vertical-align: top;\n",
       "    }\n",
       "\n",
       "    .dataframe thead th {\n",
       "        text-align: right;\n",
       "    }\n",
       "</style>\n",
       "<table border=\"1\" class=\"dataframe\">\n",
       "  <thead>\n",
       "    <tr style=\"text-align: right;\">\n",
       "      <th></th>\n",
       "      <th>tenure</th>\n",
       "      <th>MonthlyCharges</th>\n",
       "      <th>TotalCharges</th>\n",
       "    </tr>\n",
       "  </thead>\n",
       "  <tbody>\n",
       "    <tr>\n",
       "      <th>count</th>\n",
       "      <td>5043.000000</td>\n",
       "      <td>5043.000000</td>\n",
       "      <td>5043.000000</td>\n",
       "    </tr>\n",
       "    <tr>\n",
       "      <th>mean</th>\n",
       "      <td>32.576641</td>\n",
       "      <td>65.090214</td>\n",
       "      <td>2299.799108</td>\n",
       "    </tr>\n",
       "    <tr>\n",
       "      <th>std</th>\n",
       "      <td>24.529807</td>\n",
       "      <td>30.068133</td>\n",
       "      <td>2268.819487</td>\n",
       "    </tr>\n",
       "    <tr>\n",
       "      <th>min</th>\n",
       "      <td>0.000000</td>\n",
       "      <td>18.400000</td>\n",
       "      <td>18.799999</td>\n",
       "    </tr>\n",
       "    <tr>\n",
       "      <th>25%</th>\n",
       "      <td>9.000000</td>\n",
       "      <td>35.775000</td>\n",
       "      <td>416.650000</td>\n",
       "    </tr>\n",
       "    <tr>\n",
       "      <th>50%</th>\n",
       "      <td>29.000000</td>\n",
       "      <td>70.550003</td>\n",
       "      <td>1400.849976</td>\n",
       "    </tr>\n",
       "    <tr>\n",
       "      <th>75%</th>\n",
       "      <td>56.000000</td>\n",
       "      <td>90.050003</td>\n",
       "      <td>3857.575073</td>\n",
       "    </tr>\n",
       "    <tr>\n",
       "      <th>max</th>\n",
       "      <td>72.000000</td>\n",
       "      <td>118.650002</td>\n",
       "      <td>8670.100000</td>\n",
       "    </tr>\n",
       "  </tbody>\n",
       "</table>\n",
       "</div>"
      ],
      "text/plain": [
       "            tenure  MonthlyCharges  TotalCharges\n",
       "count  5043.000000     5043.000000   5043.000000\n",
       "mean     32.576641       65.090214   2299.799108\n",
       "std      24.529807       30.068133   2268.819487\n",
       "min       0.000000       18.400000     18.799999\n",
       "25%       9.000000       35.775000    416.650000\n",
       "50%      29.000000       70.550003   1400.849976\n",
       "75%      56.000000       90.050003   3857.575073\n",
       "max      72.000000      118.650002   8670.100000"
      ]
     },
     "execution_count": 32,
     "metadata": {},
     "output_type": "execute_result"
    }
   ],
   "source": [
    "# Evaluating the numerical values on the train dataset.\n",
    "\n",
    "train_data.describe()"
   ]
  },
  {
   "cell_type": "code",
   "execution_count": 33,
   "metadata": {},
   "outputs": [
    {
     "data": {
      "text/html": [
       "<div>\n",
       "<style scoped>\n",
       "    .dataframe tbody tr th:only-of-type {\n",
       "        vertical-align: middle;\n",
       "    }\n",
       "\n",
       "    .dataframe tbody tr th {\n",
       "        vertical-align: top;\n",
       "    }\n",
       "\n",
       "    .dataframe thead th {\n",
       "        text-align: right;\n",
       "    }\n",
       "</style>\n",
       "<table border=\"1\" class=\"dataframe\">\n",
       "  <thead>\n",
       "    <tr style=\"text-align: right;\">\n",
       "      <th></th>\n",
       "      <th>tenure</th>\n",
       "      <th>MonthlyCharges</th>\n",
       "      <th>TotalCharges</th>\n",
       "    </tr>\n",
       "  </thead>\n",
       "  <tbody>\n",
       "    <tr>\n",
       "      <th>tenure</th>\n",
       "      <td>1.000000</td>\n",
       "      <td>0.240645</td>\n",
       "      <td>0.826017</td>\n",
       "    </tr>\n",
       "    <tr>\n",
       "      <th>MonthlyCharges</th>\n",
       "      <td>0.240645</td>\n",
       "      <td>1.000000</td>\n",
       "      <td>0.646841</td>\n",
       "    </tr>\n",
       "    <tr>\n",
       "      <th>TotalCharges</th>\n",
       "      <td>0.826017</td>\n",
       "      <td>0.646841</td>\n",
       "      <td>1.000000</td>\n",
       "    </tr>\n",
       "  </tbody>\n",
       "</table>\n",
       "</div>"
      ],
      "text/plain": [
       "                  tenure  MonthlyCharges  TotalCharges\n",
       "tenure          1.000000        0.240645      0.826017\n",
       "MonthlyCharges  0.240645        1.000000      0.646841\n",
       "TotalCharges    0.826017        0.646841      1.000000"
      ]
     },
     "execution_count": 33,
     "metadata": {},
     "output_type": "execute_result"
    }
   ],
   "source": [
    "# Evaluating the correlation of the numerical values on the train dataset.\n",
    "\n",
    "train_data[['tenure', 'MonthlyCharges', 'TotalCharges']].corr()"
   ]
  },
  {
   "cell_type": "code",
   "execution_count": 34,
   "metadata": {},
   "outputs": [
    {
     "data": {
      "text/plain": [
       "<Axes: >"
      ]
     },
     "execution_count": 34,
     "metadata": {},
     "output_type": "execute_result"
    },
    {
     "data": {
      "image/png": "[encoded data removed]",
      "text/plain": [
       "<Figure size 640x480 with 2 Axes>"
      ]
     },
     "metadata": {},
     "output_type": "display_data"
    }
   ],
   "source": [
    "# Visualizing the correlation with a heatmap\n",
    "\n",
    "sns.heatmap(train_data[['tenure', 'MonthlyCharges', 'TotalCharges']].corr(), annot=True)"
   ]
  },
  {
   "cell_type": "markdown",
   "metadata": {},
   "source": [
    "Since there are calculations to be done on the 'Churn' column of the train dataset, 'No' and 'Yes' values will be changed to 0 and 1 respectively in order to convert the column to a numerical column."
   ]
  },
  {
   "cell_type": "code",
   "execution_count": 35,
   "metadata": {},
   "outputs": [
    {
     "data": {
      "text/plain": [
       "array([0, 1], dtype=int64)"
      ]
     },
     "execution_count": 35,
     "metadata": {},
     "output_type": "execute_result"
    }
   ],
   "source": [
    "# Changing 'No' and 'Yes' to 0 and 1 respectively on the 'Churn' column of the train dataset.\n",
    "\n",
    "train_data['Churn'] = train_data['Churn'].replace(['No', 'Yes'], [0,1])\n",
    "train_data['Churn'].unique()"
   ]
  },
  {
   "cell_type": "markdown",
   "metadata": {},
   "source": [
    "# Hypothesis Testing"
   ]
  },
  {
   "cell_type": "markdown",
   "metadata": {},
   "source": [
    "Hypothesis\n",
    "Null Hypothesis: There is no relationship between the monthly charges and the churn of customers.\n",
    "\n",
    "Alternate Hypothesis: There is a relationship between the monthly charges and the churn of customers.\n",
    "\n",
    "The hypothesis was tested using chi-square test."
   ]
  },
  {
   "cell_type": "code",
   "execution_count": 36,
   "metadata": {},
   "outputs": [
    {
     "name": "stdout",
     "output_type": "stream",
     "text": [
      "Null Hypothesis: There is no relationship between the monthly charge and churn of customers.\n",
      "Alternative Hypothesis: There is a relationship between the monthly charge and churn of customers.\n",
      "Significance Level (alpha): 0.05\n",
      "Chi-square statistic: 2435.9382488559727\n",
      "P-value: 2.9228176168391307e-08\n",
      "Result: Reject the null hypothesis. There is a relationship between the monthly charges and churn of customers.\n"
     ]
    }
   ],
   "source": [
    "# Define the null hypothesis.\n",
    "null_hypothesis = \"There is no relationship between the monthly charge and churn of customers.\"\n",
    "\n",
    "# Define the alternative hypothesis.\n",
    "alternative_hypothesis = \"There is a relationship between the monthly charge and churn of customers.\"\n",
    "\n",
    "# Perform the chi-square test\n",
    "observed = pd.crosstab(train_data['MonthlyCharges'], train_data['Churn'])\n",
    "\n",
    "chi2, p_value, _, _ = stats.chi2_contingency(observed)\n",
    "\n",
    "\n",
    "# Set the significance level\n",
    "alpha = 0.05\n",
    "\n",
    "\n",
    "# Print the test results\n",
    "print(\"Null Hypothesis:\", null_hypothesis)\n",
    "\n",
    "print(\"Alternative Hypothesis:\", alternative_hypothesis)\n",
    "\n",
    "print(\"Significance Level (alpha):\", alpha)\n",
    "\n",
    "print(\"Chi-square statistic:\", chi2)\n",
    "\n",
    "print(\"P-value:\", p_value)\n",
    "\n",
    "\n",
    "# Compare the p-value with the significance level\n",
    "if p_value < alpha:\n",
    "\n",
    "    print(\"Result: Reject the null hypothesis. There is a relationship between the monthly charges and churn of customers.\")\n",
    "\n",
    "else:\n",
    "\n",
    "    print(\"Result: Fail to reject the null hypothesis. There is no relationship between monthly charges and churn of customers.\")"
   ]
  },
  {
   "cell_type": "markdown",
   "metadata": {},
   "source": [
    "# Answering Questions with Visualizations"
   ]
  },
  {
   "cell_type": "markdown",
   "metadata": {},
   "source": [
    "###  Analytical Questions\n",
    "1. What is the overall churn rate of the telecommunication company?\n",
    "2. What is the average monthly charges to churn customers compared to non-churn customers?\n",
    "3. What percentage of the top 100 most charged customers churned?\n",
    "4. What percentage of the top 100 least charged customers churned?\n",
    "5. What is the churn rate of male customers with partners, dependents and high monthly charges?\n",
    "6. What is the churn rate of customers without online security?\n",
    "7. What is the churn rate of customers without online backup?\n",
    "8. What is the churn rate of customers without device protection?\n",
    "9. What is the churn rate of customers without Tech support?\n",
    "10. How does the absence of online security, online backup, device protection and Tech support add up to lead to churning?\n",
    "11. How does the length of customers' contract affect their likelihood of churn?\n",
    "12. How does the length of customers' tenure affect their likelihood of churn?"
   ]
  },
  {
   "cell_type": "markdown",
   "metadata": {},
   "source": [
    "# Question 1\n",
    "What is the overall churn rate of the telecommunication company?"
   ]
  },
  {
   "cell_type": "code",
   "execution_count": 37,
   "metadata": {},
   "outputs": [
    {
     "name": "stdout",
     "output_type": "stream",
     "text": [
      "Total Customers: 5043\n",
      "Churned Customers: 1336\n",
      "Churn Rate: 26.5%\n"
     ]
    },
    {
     "data": {
      "image/png": "[encoded data removed]",
      "text/plain": [
       "<Figure size 640x480 with 1 Axes>"
      ]
     },
     "metadata": {},
     "output_type": "display_data"
    }
   ],
   "source": [
    "# Calculate the churn rate\n",
    "total_customers = len(train_data)\n",
    "churned_customers = train_data['Churn'].sum()\n",
    "churn_rate = (churned_customers / total_customers) * 100\n",
    "\n",
    "# Display the churn rate\n",
    "print('Total Customers:', total_customers)\n",
    "print('Churned Customers:', churned_customers)\n",
    "print(f'Churn Rate: {churn_rate.round(1)}%')\n",
    "\n",
    "# Plot the churn rate\n",
    "plt.bar(['Churned', 'Not Churned'], [churn_rate, 100-churn_rate])\n",
    "plt.title('Overall Churn Rate Of The Telecommunication Network')\n",
    "plt.xlabel('Churn Status')\n",
    "plt.ylabel('Percentage')\n",
    "plt.ylim([0, 100])\n",
    "plt.show()"
   ]
  },
  {
   "cell_type": "markdown",
   "metadata": {},
   "source": [
    "With 5043 customers initially out of which 1336 have churned, the telecommunication network has a churn rate of 26.5%."
   ]
  },
  {
   "cell_type": "markdown",
   "metadata": {},
   "source": [
    "# Question 2\n",
    "What is the average monthly charges to churn customers compared to non-churn customers?"
   ]
  },
  {
   "cell_type": "code",
   "execution_count": 38,
   "metadata": {},
   "outputs": [
    {
     "name": "stdout",
     "output_type": "stream",
     "text": [
      "Average Monthly Charges To Churn Customers: $75.21\n",
      "Average Monthly Charges To Non-Churn Customers: $61.44\n"
     ]
    },
    {
     "data": {
      "image/png": "[encoded data removed]",
      "text/plain": [
       "<Figure size 640x480 with 1 Axes>"
      ]
     },
     "metadata": {},
     "output_type": "display_data"
    }
   ],
   "source": [
    "# Separate churn and non-churn customers\n",
    "churn_customers = train_data[train_data['Churn'] == 1]\n",
    "non_churn_customers = train_data[train_data['Churn'] == 0]\n",
    "\n",
    "# Calculate the average monthly charges for churn and non-churn customers\n",
    "avg_churn_charges = churn_customers['MonthlyCharges'].mean()\n",
    "avg_non_churn_charges = non_churn_customers['MonthlyCharges'].mean()\n",
    "\n",
    "# Display the average charges\n",
    "print(f'Average Monthly Charges To Churn Customers: ${round(avg_churn_charges, 2)}')\n",
    "print(f'Average Monthly Charges To Non-Churn Customers: ${round(avg_non_churn_charges, 2)}')\n",
    "\n",
    "# Plot the average charges\n",
    "labels = ['Churn Customers', 'Non-Churn Customers']\n",
    "charges = [avg_churn_charges, avg_non_churn_charges]\n",
    "plt.bar(labels, charges)\n",
    "plt.ylabel('Average Monthly Charges ($)')\n",
    "plt.title('Average Monthly Charges To Churn Customers Compared to Non-Churn Customers')\n",
    "plt.show()"
   ]
  },
  {
   "cell_type": "markdown",
   "metadata": {},
   "source": [
    "As shown, the average monthly charges to churn customers is 75.21 dollars, higher than the average monthly charges to non-churn customers (61.44 dollars)."
   ]
  },
  {
   "cell_type": "markdown",
   "metadata": {},
   "source": [
    "# Question 3\n",
    "What percentage of the top 100 most charged customers churned?"
   ]
  },
  {
   "cell_type": "code",
   "execution_count": 39,
   "metadata": {},
   "outputs": [
    {
     "name": "stdout",
     "output_type": "stream",
     "text": [
      "The Percentage Of The Top 100 Most Charged Customers Who Churned: 7.000000000000001%\n"
     ]
    },
    {
     "data": {
      "image/png": "[encoded data removed]",
      "text/plain": [
       "<Figure size 640x480 with 1 Axes>"
      ]
     },
     "metadata": {},
     "output_type": "display_data"
    }
   ],
   "source": [
    "# Sort the DataFrame by TotalCharges in descending order\n",
    "\n",
    "most_charged_data = train_data.sort_values(by='TotalCharges', ascending=False)\n",
    "\n",
    "# Select the top 100 most charged customers\n",
    "top_100_most_charged_customers = most_charged_data.head(100)\n",
    "\n",
    "# Count the number of churned customers among the top 100\n",
    "most_charged_churned_customers = top_100_most_charged_customers[top_100_most_charged_customers['Churn'] == 1]\n",
    "most_charged_churned_count = most_charged_churned_customers.shape[0]\n",
    "\n",
    "# Calculate the percentage of churned customers\n",
    "most_charged_percentage_churned = (most_charged_churned_count / 100) * 100\n",
    "\n",
    "# Display the result\n",
    "print(f'The Percentage Of The Top 100 Most Charged Customers Who Churned: {most_charged_percentage_churned}%')\n",
    "\n",
    "# Create a pie chart to visualize the results\n",
    "labels = ['Churned Customers', 'Non-Churned Customers']\n",
    "sizes = [most_charged_percentage_churned, 100 - most_charged_percentage_churned]\n",
    "colors = ['#FF7F7F', '#7FB3FF']\n",
    "\n",
    "# Plot the top 100 most charged customers who churned\n",
    "plt.pie(sizes, labels=labels, colors=colors, autopct='%1.1f%%', startangle=90)\n",
    "plt.axis('equal')  # Equal aspect ratio ensures that pie is drawn as a circle\n",
    "plt.title('The Percentage Of The Top 100 Most Charged Customers Who Churned')\n",
    "plt.legend(loc=(1,0.5))\n",
    "plt.show()"
   ]
  },
  {
   "cell_type": "markdown",
   "metadata": {},
   "source": [
    "At an overall churn rate of 26.5%, only 7% of the top 100 most charged customers churned. This suggests that the total charges are not the only determinant of churn. There will be other factors that influenced the churn rate."
   ]
  },
  {
   "cell_type": "markdown",
   "metadata": {},
   "source": [
    "# Question 4\n",
    "What percentage of the top 100 least charged customers churned?"
   ]
  },
  {
   "cell_type": "code",
   "execution_count": 40,
   "metadata": {},
   "outputs": [
    {
     "name": "stdout",
     "output_type": "stream",
     "text": [
      "The Percentage Of The Top 100 Least Charged Customers Who Churned: 33.0%\n"
     ]
    },
    {
     "data": {
      "image/png": "[encoded data removed]",
      "text/plain": [
       "<Figure size 640x480 with 1 Axes>"
      ]
     },
     "metadata": {},
     "output_type": "display_data"
    }
   ],
   "source": [
    "# Sort the DataFrame by TotalCharges in ascending order\n",
    "\n",
    "least_charged_data = train_data.sort_values(by='TotalCharges', ascending=True)\n",
    "\n",
    "# Select the top 100 least charged customers\n",
    "top_100_least_charged_customers = least_charged_data.head(100)\n",
    "\n",
    "# Count the number of churned customers among the top 100\n",
    "least_charged_churned_customers = top_100_least_charged_customers[top_100_least_charged_customers['Churn'] == 1]\n",
    "least_charged_churned_count = least_charged_churned_customers.shape[0]\n",
    "\n",
    "# Calculate the percentage of churned customers\n",
    "least_charged_percentage_churned = (least_charged_churned_count / 100) * 100\n",
    "\n",
    "# Display the result\n",
    "print(f'The Percentage Of The Top 100 Least Charged Customers Who Churned: {least_charged_percentage_churned}%')\n",
    "\n",
    "# Create a pie chart to visualize the results\n",
    "labels = ['Churned Customers', 'Non-Churned Customers']\n",
    "sizes = [least_charged_percentage_churned, 100 - least_charged_percentage_churned]\n",
    "colors = ['#FF7F7F', '#7FB3FF']\n",
    "\n",
    "# Plot the top 100 most charged customers who churned\n",
    "plt.pie(sizes, labels=labels, colors=colors, autopct='%1.1f%%', startangle=90)\n",
    "plt.axis('equal')  # Equal aspect ratio ensures that pie is drawn as a circle\n",
    "plt.title('The Percentage Of The Top 100 Least Charged Customers Who Churned')\n",
    "plt.legend(loc=(1,0.5))\n",
    "plt.show()"
   ]
  },
  {
   "cell_type": "markdown",
   "metadata": {},
   "source": [
    "33% of the top 100 least charged customers churned. This strenghtens the argument that the charges are not the only determinant of churn. A good number of those that got the least charges churned although the charges they paid were reasonably low."
   ]
  },
  {
   "cell_type": "markdown",
   "metadata": {},
   "source": [
    "# Question 5\n",
    "What is the churn rate of male customers with partners, dependents and high monthly charges?\n",
    "\n",
    "N/B: It is assumed that high monthly charges refer to monthly charges equal to or above $100."
   ]
  },
  {
   "cell_type": "code",
   "execution_count": 41,
   "metadata": {},
   "outputs": [
    {
     "name": "stdout",
     "output_type": "stream",
     "text": [
      "Churn Rate of Male Customers with Partners, Dependents and High Monthly Charges: 20.0%\n",
      "Non-Churn Rate of Male Customers with Partners, Dependents and High Monthly Charges: 80.0%\n"
     ]
    },
    {
     "data": {
      "image/png": "[encoded data removed]",
      "text/plain": [
       "<Figure size 640x480 with 1 Axes>"
      ]
     },
     "metadata": {},
     "output_type": "display_data"
    }
   ],
   "source": [
    "# Filter the data to include only male customers with partners and dependents and high monthly charges\n",
    "filtered_train_data = train_data[(train_data['gender'] == 'Male') & (train_data['Partner'] == 'Yes') & (train_data['Dependents'] == 'Yes') & (train_data['MonthlyCharges'] > 100)]\n",
    "\n",
    "# Calculate the churn rate.\n",
    "rate_churned = filtered_train_data[filtered_train_data['Churn'] == 1].shape[0]/len(filtered_train_data) * 100\n",
    "\n",
    "# Calculate the non-churn rate.\n",
    "rate_non_churned = filtered_train_data[filtered_train_data['Churn'] == 0].shape[0]/len(filtered_train_data) * 100\n",
    "\n",
    "# Display the result\n",
    "print(f'Churn Rate of Male Customers with Partners, Dependents and High Monthly Charges: {rate_churned}%')\n",
    "print(f'Non-Churn Rate of Male Customers with Partners, Dependents and High Monthly Charges: {rate_non_churned}%')\n",
    "\n",
    "# Create a bar plot to visualize the churn rate and non-churn rate.\n",
    "labels = ['Churned', 'Non-Churned']\n",
    "charges = [rate_churned, rate_non_churned]\n",
    "\n",
    "# Plot the churn rate of male customers with partners, dependents and high monthly charges\n",
    "plt.bar(labels, charges)\n",
    "plt.xlabel('Churn Status')\n",
    "plt.ylabel('Churn Rate (%)')\n",
    "plt.title('Churn Rate Of Male Customers With Partners, Dependents \\nAnd High Monthly Charges')\n",
    "plt.show()"
   ]
  },
  {
   "cell_type": "markdown",
   "metadata": {},
   "source": [
    "On the assumption that male customers with partners and dependents have higher financial demands to meet under average conditions, this question analyzed the rate at which high charges influenced the churn rate of this set of customers. It was discovered that only 20% of male customers with partners, dependents and high monthly charges churned. This confirms that the charges are not the only determinant of churn. There are other factors that greatly influenced the churn rate."
   ]
  },
  {
   "cell_type": "markdown",
   "metadata": {},
   "source": [
    "# Question 6\n",
    "What is the churn rate of customers without online security?"
   ]
  },
  {
   "cell_type": "code",
   "execution_count": 42,
   "metadata": {},
   "outputs": [
    {
     "name": "stdout",
     "output_type": "stream",
     "text": [
      "Churn Rate Of Customers Without Online Security: 31.27962085308057%\n"
     ]
    },
    {
     "data": {
      "image/png": "[encoded data removed]",
      "text/plain": [
       "<Figure size 600x600 with 1 Axes>"
      ]
     },
     "metadata": {},
     "output_type": "display_data"
    }
   ],
   "source": [
    "# Filter the DataFrame to include only customers without online security\n",
    "no_security_customers = train_data[train_data['OnlineSecurity'] == 'No']\n",
    "\n",
    "# Calculate the churn rate of customers without online security\n",
    "churned_customers = no_security_customers[no_security_customers['Churn'] == 1]\n",
    "churned_rate = (churned_customers.shape[0] / no_security_customers.shape[0]) * 100\n",
    "\n",
    "# Display the result\n",
    "print(f'Churn Rate Of Customers Without Online Security: {churned_rate}%')\n",
    "\n",
    "# Create a pie chart to visualize the results\n",
    "labels = ['Churned', 'Non-Churned']\n",
    "sizes = [churned_rate, 100 - churned_rate]\n",
    "colors = ['#FF7F7F', '#7FB3FF']\n",
    "\n",
    "# Plot the churn rate of customers without online security\n",
    "plt.figure(figsize=(6, 6))\n",
    "plt.pie(sizes, labels=labels, colors=colors, autopct='%1.1f%%', startangle=90)\n",
    "plt.axis('equal')\n",
    "plt.title('Churn Rate Of Customers Without Online Security')\n",
    "plt.legend(loc=(1,0.5))\n",
    "plt.show()"
   ]
  },
  {
   "cell_type": "markdown",
   "metadata": {},
   "source": [
    "31.3% of customers without online security churned. This means that the absence of online security influenced the churn rate of customers."
   ]
  },
  {
   "cell_type": "markdown",
   "metadata": {},
   "source": [
    "# Question 7\n",
    "What is the churn rate of customers without online backup?"
   ]
  },
  {
   "cell_type": "code",
   "execution_count": 43,
   "metadata": {},
   "outputs": [
    {
     "name": "stdout",
     "output_type": "stream",
     "text": [
      "Churn Rate Of Customers Without Online Backup: 29.205678042887346%\n"
     ]
    },
    {
     "data": {
      "image/png": "[encoded data removed]",
      "text/plain": [
       "<Figure size 600x600 with 1 Axes>"
      ]
     },
     "metadata": {},
     "output_type": "display_data"
    }
   ],
   "source": [
    "# Filter the DataFrame to include only customers without online backup\n",
    "no_backup_customers = train_data[train_data['OnlineBackup'] == 'No']\n",
    "\n",
    "# Calculate the churn rate of customers without online backup\n",
    "churned_customers = no_backup_customers[no_backup_customers['Churn'] == 1]\n",
    "churned_rate = (churned_customers.shape[0] / no_backup_customers.shape[0]) * 100\n",
    "\n",
    "# Display the result\n",
    "print(f'Churn Rate Of Customers Without Online Backup: {churned_rate}%')\n",
    "\n",
    "# Create a pie chart to visualize the results\n",
    "labels = ['Churned', 'Non-Churned']\n",
    "sizes = [churned_rate, 100 - churned_rate]\n",
    "colors = ['#FF7F7F', '#7FB3FF']\n",
    "\n",
    "# Plot the churn rate of customers without online backup\n",
    "plt.figure(figsize=(6, 6))\n",
    "plt.pie(sizes, labels=labels, colors=colors, autopct='%1.1f%%', startangle=90)\n",
    "plt.axis('equal')\n",
    "plt.title('Churn Rate Of Customers Without Online Backup')\n",
    "plt.legend(loc=(1,0.5))\n",
    "plt.show()"
   ]
  },
  {
   "cell_type": "markdown",
   "metadata": {},
   "source": [
    "29.2% of customers without online backup churned. This means that the absence of online backup influenced the churn rate of customers."
   ]
  },
  {
   "cell_type": "markdown",
   "metadata": {},
   "source": [
    "# Question 8\n",
    "What is the churn rate of customers without device protection?"
   ]
  },
  {
   "cell_type": "code",
   "execution_count": 44,
   "metadata": {},
   "outputs": [
    {
     "name": "stdout",
     "output_type": "stream",
     "text": [
      "Churn Rate Of Customers Without Device Protection: 28.58441952106699%\n"
     ]
    },
    {
     "data": {
      "image/png": "[encoded data removed]",
      "text/plain": [
       "<Figure size 600x600 with 1 Axes>"
      ]
     },
     "metadata": {},
     "output_type": "display_data"
    }
   ],
   "source": [
    "# Filter the DataFrame to include only customers without device protection\n",
    "no_device_protection_customers = train_data[train_data['DeviceProtection'] == 'No']\n",
    "\n",
    "# Calculate the churn rate of customers without device protection\n",
    "churned_customers = no_device_protection_customers[no_device_protection_customers['Churn'] == 1]\n",
    "churned_rate = (churned_customers.shape[0] / no_device_protection_customers.shape[0]) * 100\n",
    "\n",
    "# Display the result\n",
    "print(f'Churn Rate Of Customers Without Device Protection: {churned_rate}%')\n",
    "\n",
    "# Create a pie chart to visualize the results\n",
    "labels = ['Churned', 'Non-Churned']\n",
    "sizes = [churned_rate, 100 - churned_rate]\n",
    "colors = ['#FF7F7F', '#7FB3FF']\n",
    "\n",
    "# Plot the churn rate of customers without device protection\n",
    "plt.figure(figsize=(6, 6))\n",
    "plt.pie(sizes, labels=labels, colors=colors, autopct='%1.1f%%', startangle=90)\n",
    "plt.axis('equal')\n",
    "plt.title('Churn Rate Of Customers Without Device Protection')\n",
    "plt.legend(loc=(1,0.5))\n",
    "plt.show()"
   ]
  },
  {
   "cell_type": "markdown",
   "metadata": {},
   "source": [
    "28.6% of customers without device protection churned. This means that the absence of device protection influenced the churn rate of customers."
   ]
  },
  {
   "cell_type": "markdown",
   "metadata": {},
   "source": [
    "# Question 9\n",
    "What is the churn rate of customers without Tech support?"
   ]
  },
  {
   "cell_type": "code",
   "execution_count": 45,
   "metadata": {},
   "outputs": [
    {
     "name": "stdout",
     "output_type": "stream",
     "text": [
      "Churn Rate Of Customers Without Tech Support: 31.390765765765767%\n"
     ]
    },
    {
     "data": {
      "image/png": "[encoded data removed]",
      "text/plain": [
       "<Figure size 600x600 with 1 Axes>"
      ]
     },
     "metadata": {},
     "output_type": "display_data"
    }
   ],
   "source": [
    "# Filter the DataFrame to include only customers without Tech support\n",
    "no_tech_support_customers = train_data[train_data['TechSupport'] == 'No']\n",
    "\n",
    "# Calculate the churn rate of customers without Tech support\n",
    "churned_customers = no_tech_support_customers[no_tech_support_customers['Churn'] == 1]\n",
    "churned_rate = (churned_customers.shape[0] / no_tech_support_customers.shape[0]) * 100\n",
    "\n",
    "# Display the result\n",
    "print(f'Churn Rate Of Customers Without Tech Support: {churned_rate}%')\n",
    "\n",
    "# Create a pie chart to visualize the result\n",
    "labels = ['Churned', 'Non-Churned']\n",
    "sizes = [churned_rate, 100 - churned_rate]\n",
    "colors = ['#FF7F7F', '#7FB3FF']\n",
    "\n",
    "# Plot the churn rate of customers without Tech support\n",
    "plt.figure(figsize=(6, 6))\n",
    "plt.pie(sizes, labels=labels, colors=colors, autopct='%1.1f%%', startangle=90)\n",
    "plt.axis('equal')\n",
    "plt.title('Churn Rate Of Customers Without Tech Support')\n",
    "plt.legend(loc=(1,0.5))\n",
    "plt.show()"
   ]
  },
  {
   "cell_type": "markdown",
   "metadata": {},
   "source": [
    "31.4% of customers without Tech support churned. This means that the absence of Tech support influenced the churn rate of customers."
   ]
  },
  {
   "cell_type": "markdown",
   "metadata": {},
   "source": [
    "# Question 10\n",
    "How does the absence of online security, online backup, device protection and Tech support add up to lead to churning?"
   ]
  },
  {
   "cell_type": "code",
   "execution_count": 46,
   "metadata": {},
   "outputs": [
    {
     "name": "stdout",
     "output_type": "stream",
     "text": [
      "Churn Percentage Of Customers Without Online Security: 83.98203592814372%\n",
      "Churn Percentage Of Customers Without Online Backup: 72.38023952095809%\n",
      "Churn Percentage Of Customers Without Device Protection: 70.58383233532935%\n",
      "Churn Percentage Of Customers Without Tech Support: 83.45808383233533%\n"
     ]
    },
    {
     "data": {
      "image/png": "[encoded data removed]",
      "text/plain": [
       "<Figure size 1000x600 with 1 Axes>"
      ]
     },
     "metadata": {},
     "output_type": "display_data"
    }
   ],
   "source": [
    "# Calculate the number of churned customers based on absence of each feature\n",
    "churned_customers = train_data[train_data['Churn'] == 1]\n",
    "\n",
    "absence_of_security = churned_customers[churned_customers['OnlineSecurity'] == 'No'].shape[0]\n",
    "absence_of_backup = churned_customers[churned_customers['OnlineBackup'] == 'No'].shape[0]\n",
    "absence_of_protection = churned_customers[churned_customers['DeviceProtection'] == 'No'].shape[0]\n",
    "absence_of_tech_support = churned_customers[churned_customers['TechSupport'] == 'No'].shape[0]\n",
    "\n",
    "# Calculate the rate at which the absence of each feature contributes to churning\n",
    "total_churned_customers = churned_customers.shape[0]\n",
    "\n",
    "rate_of_security = (absence_of_security / total_churned_customers) * 100\n",
    "rate_of_backup = (absence_of_backup / total_churned_customers) * 100\n",
    "rate_of_protection = (absence_of_protection / total_churned_customers) * 100\n",
    "rate_of_tech_support = (absence_of_tech_support / total_churned_customers) * 100\n",
    "\n",
    "# Display the results\n",
    "print(f'Churn Percentage Of Customers Without Online Security: {rate_of_security}%')\n",
    "print(f'Churn Percentage Of Customers Without Online Backup: {rate_of_backup}%')\n",
    "print(f'Churn Percentage Of Customers Without Device Protection: {rate_of_protection}%')\n",
    "print(f'Churn Percentage Of Customers Without Tech Support: {rate_of_tech_support}%')\n",
    "\n",
    "# Create a bar plot to visualize the results\n",
    "labels = ['No Online Security', 'No Online Backup', 'No Device Protection', 'No Tech Support']\n",
    "rates = [rate_of_security, rate_of_backup, rate_of_protection, rate_of_tech_support]\n",
    "\n",
    "# Plot the rate at which the absence of each feature contributes to churning\n",
    "plt.figure(figsize=(10, 6))\n",
    "sns.barplot(x=labels, y=rates, palette='viridis')\n",
    "plt.title('Churn Rate Due To Absence Of Features')\n",
    "plt.xlabel('Features')\n",
    "plt.ylabel('Rate (%)')\n",
    "plt.xticks(rotation=45)\n",
    "plt.show()"
   ]
  },
  {
   "cell_type": "markdown",
   "metadata": {},
   "source": [
    "This means that out of all the churned customers, 84.0% did not have online security, 72.4% did not have online backup, 70.6% did not have device protection, and 83.5% did not have Tech support. These factors are majorly responsible for churning."
   ]
  },
  {
   "cell_type": "markdown",
   "metadata": {},
   "source": [
    "# Question 11\n",
    "How does the length of customers' contract affect their likelihood of churn?"
   ]
  },
  {
   "cell_type": "code",
   "execution_count": 47,
   "metadata": {},
   "outputs": [
    {
     "name": "stdout",
     "output_type": "stream",
     "text": [
      "Contract Lengths: ['Month-to-month' 'One year' 'Two year']\n",
      "Churn Rates: [43.14868804664723, 11.563981042654028, 2.4115755627009645]\n"
     ]
    },
    {
     "data": {
      "image/png": "[encoded data removed]",
      "text/plain": [
       "<Figure size 800x600 with 1 Axes>"
      ]
     },
     "metadata": {},
     "output_type": "display_data"
    }
   ],
   "source": [
    "# Calculate churn rates for different contract lengths\n",
    "contract_lengths = train_data['Contract'].unique()\n",
    "churn_rates = []\n",
    "\n",
    "for length in contract_lengths:\n",
    "   churn_rate = train_data[train_data['Contract'] == length]['Churn'].value_counts(normalize=True).get(1, 0) * 100\n",
    "   churn_rates.append(churn_rate)\n",
    "\n",
    "# Display the contract lenghts and churn rates\n",
    "print(f'Contract Lengths: {contract_lengths}')\n",
    "print(f'Churn Rates: {churn_rates}')\n",
    "\n",
    "# Create a bar plot to visualize the churn rates by contract length\n",
    "plt.figure(figsize=(8, 6))\n",
    "plt.bar(contract_lengths, churn_rates)\n",
    "plt.xlabel('Contract Length')\n",
    "plt.ylabel('Churn Rate (%)')\n",
    "plt.title('Churn Rates by Contract Length')\n",
    "plt.show()"
   ]
  },
  {
   "cell_type": "markdown",
   "metadata": {},
   "source": [
    "As shown, the length of a customer's contract affects the churn rate. Customers with month-to-month contract have a high churn rate of 43.1%. This is followed by customers with one year contract length with a churn rate of 11.6%. While customers with two year contract length have a low churn rate of 2.4%."
   ]
  },
  {
   "cell_type": "markdown",
   "metadata": {},
   "source": [
    "# Question 12\n",
    "How does the length of customers' tenure affect their likelihood of churn?"
   ]
  },
  {
   "cell_type": "code",
   "execution_count": 48,
   "metadata": {},
   "outputs": [
    {
     "data": {
      "image/png": "[encoded data removed]",
      "text/plain": [
       "<Figure size 800x600 with 1 Axes>"
      ]
     },
     "metadata": {},
     "output_type": "display_data"
    }
   ],
   "source": [
    "# Calculate churn rates for different tenure lengths\n",
    "tenure_lengths = train_data['tenure'].unique()\n",
    "churn_rates = []\n",
    "\n",
    "for length in tenure_lengths:\n",
    "   churn_rate = train_data[train_data['tenure'] == length]['Churn'].value_counts(normalize=True).get(1, 0)\n",
    "   churn_rates.append(churn_rate)\n",
    "\n",
    "# Create a bar plot to visualize the churn rates by tenure length\n",
    "plt.figure(figsize=(8, 6))\n",
    "plt.bar(tenure_lengths, churn_rates)\n",
    "plt.xlabel('Tenure Length (Number of Months)')\n",
    "plt.ylabel('Churn Rate')\n",
    "plt.title('Churn Rates by Tenure Length')\n",
    "plt.show()"
   ]
  },
  {
   "cell_type": "markdown",
   "metadata": {},
   "source": [
    "As shown, the more the tenure length (number of months) a customer stays with the telecommunication company, the lower the likelihood of churn. This is ralated to the result of the likelihood of churn based on the contract length of customers."
   ]
  },
  {
   "cell_type": "markdown",
   "metadata": {},
   "source": [
    "# Recommendation"
   ]
  },
  {
   "cell_type": "code",
   "execution_count": 49,
   "metadata": {},
   "outputs": [],
   "source": [
    "#"
   ]
  },
  {
   "cell_type": "code",
   "execution_count": 50,
   "metadata": {},
   "outputs": [],
   "source": [
    "# # Pandas Profiling\n",
    "# # TRAIN\n",
    "\n",
    "# profile = ProfileReport(train_data, title = \"Train Dataset\", html = {'style': {full_width: True}})\n",
    "# profile.to_notebook_iframe()\n",
    "# profile.to_file('(Trainset) Pandas-Profiling_Report.html')"
   ]
  },
  {
   "cell_type": "markdown",
   "metadata": {},
   "source": [
    "# Feature Engineering"
   ]
  },
  {
   "cell_type": "code",
   "execution_count": 51,
   "metadata": {},
   "outputs": [],
   "source": [
    "# First create a copy of the train dataset on which to carry out the feature engineering processes\n",
    "\n",
    "train_data_transformed = train_data.copy()"
   ]
  },
  {
   "cell_type": "markdown",
   "metadata": {},
   "source": [
    "### Feature scaling with MinMaxScaler"
   ]
  },
  {
   "cell_type": "code",
   "execution_count": 52,
   "metadata": {},
   "outputs": [
    {
     "data": {
      "text/html": [
       "<div>\n",
       "<style scoped>\n",
       "    .dataframe tbody tr th:only-of-type {\n",
       "        vertical-align: middle;\n",
       "    }\n",
       "\n",
       "    .dataframe tbody tr th {\n",
       "        vertical-align: top;\n",
       "    }\n",
       "\n",
       "    .dataframe thead th {\n",
       "        text-align: right;\n",
       "    }\n",
       "</style>\n",
       "<table border=\"1\" class=\"dataframe\">\n",
       "  <thead>\n",
       "    <tr style=\"text-align: right;\">\n",
       "      <th></th>\n",
       "      <th>tenure</th>\n",
       "      <th>MonthlyCharges</th>\n",
       "      <th>TotalCharges</th>\n",
       "    </tr>\n",
       "  </thead>\n",
       "  <tbody>\n",
       "    <tr>\n",
       "      <th>0</th>\n",
       "      <td>0.013889</td>\n",
       "      <td>0.114214</td>\n",
       "      <td>0.001277</td>\n",
       "    </tr>\n",
       "    <tr>\n",
       "      <th>1</th>\n",
       "      <td>0.472222</td>\n",
       "      <td>0.384539</td>\n",
       "      <td>0.216233</td>\n",
       "    </tr>\n",
       "    <tr>\n",
       "      <th>2</th>\n",
       "      <td>0.027778</td>\n",
       "      <td>0.353616</td>\n",
       "      <td>0.010328</td>\n",
       "    </tr>\n",
       "    <tr>\n",
       "      <th>3</th>\n",
       "      <td>0.625000</td>\n",
       "      <td>0.238404</td>\n",
       "      <td>0.210598</td>\n",
       "    </tr>\n",
       "    <tr>\n",
       "      <th>4</th>\n",
       "      <td>0.027778</td>\n",
       "      <td>0.521696</td>\n",
       "      <td>0.015356</td>\n",
       "    </tr>\n",
       "  </tbody>\n",
       "</table>\n",
       "</div>"
      ],
      "text/plain": [
       "     tenure  MonthlyCharges  TotalCharges\n",
       "0  0.013889        0.114214      0.001277\n",
       "1  0.472222        0.384539      0.216233\n",
       "2  0.027778        0.353616      0.010328\n",
       "3  0.625000        0.238404      0.210598\n",
       "4  0.027778        0.521696      0.015356"
      ]
     },
     "execution_count": 52,
     "metadata": {},
     "output_type": "execute_result"
    }
   ],
   "source": [
    "# Select the numerical columns for scaling\n",
    "features_to_scale = ['tenure', 'MonthlyCharges', 'TotalCharges']\n",
    "\n",
    "# Create a MinMaxScaler object\n",
    "scaler = MinMaxScaler()\n",
    "\n",
    "# Apply Min-Max scaling to the selected features\n",
    "train_data_transformed[features_to_scale] = scaler.fit_transform(train_data_transformed[features_to_scale])\n",
    "\n",
    "# View the scaled data\n",
    "train_data_transformed[features_to_scale].head()"
   ]
  },
  {
   "cell_type": "markdown",
   "metadata": {},
   "source": [
    "### Label encoding"
   ]
  },
  {
   "cell_type": "code",
   "execution_count": 53,
   "metadata": {},
   "outputs": [
    {
     "data": {
      "text/html": [
       "<div>\n",
       "<style scoped>\n",
       "    .dataframe tbody tr th:only-of-type {\n",
       "        vertical-align: middle;\n",
       "    }\n",
       "\n",
       "    .dataframe tbody tr th {\n",
       "        vertical-align: top;\n",
       "    }\n",
       "\n",
       "    .dataframe thead th {\n",
       "        text-align: right;\n",
       "    }\n",
       "</style>\n",
       "<table border=\"1\" class=\"dataframe\">\n",
       "  <thead>\n",
       "    <tr style=\"text-align: right;\">\n",
       "      <th></th>\n",
       "      <th>gender</th>\n",
       "      <th>SeniorCitizen</th>\n",
       "      <th>Partner</th>\n",
       "      <th>Dependents</th>\n",
       "      <th>tenure</th>\n",
       "      <th>PhoneService</th>\n",
       "      <th>MultipleLines</th>\n",
       "      <th>InternetService</th>\n",
       "      <th>OnlineSecurity</th>\n",
       "      <th>OnlineBackup</th>\n",
       "      <th>DeviceProtection</th>\n",
       "      <th>TechSupport</th>\n",
       "      <th>StreamingTV</th>\n",
       "      <th>StreamingMovies</th>\n",
       "      <th>Contract</th>\n",
       "      <th>PaperlessBilling</th>\n",
       "      <th>PaymentMethod</th>\n",
       "      <th>MonthlyCharges</th>\n",
       "      <th>TotalCharges</th>\n",
       "      <th>Churn</th>\n",
       "    </tr>\n",
       "  </thead>\n",
       "  <tbody>\n",
       "    <tr>\n",
       "      <th>0</th>\n",
       "      <td>1</td>\n",
       "      <td>0</td>\n",
       "      <td>1</td>\n",
       "      <td>0</td>\n",
       "      <td>0.013889</td>\n",
       "      <td>0</td>\n",
       "      <td>0</td>\n",
       "      <td>DSL</td>\n",
       "      <td>0</td>\n",
       "      <td>1</td>\n",
       "      <td>0</td>\n",
       "      <td>0</td>\n",
       "      <td>0</td>\n",
       "      <td>0</td>\n",
       "      <td>Month-to-month</td>\n",
       "      <td>1</td>\n",
       "      <td>Electronic check</td>\n",
       "      <td>0.114214</td>\n",
       "      <td>0.001277</td>\n",
       "      <td>0</td>\n",
       "    </tr>\n",
       "    <tr>\n",
       "      <th>1</th>\n",
       "      <td>0</td>\n",
       "      <td>0</td>\n",
       "      <td>0</td>\n",
       "      <td>0</td>\n",
       "      <td>0.472222</td>\n",
       "      <td>1</td>\n",
       "      <td>0</td>\n",
       "      <td>DSL</td>\n",
       "      <td>1</td>\n",
       "      <td>0</td>\n",
       "      <td>1</td>\n",
       "      <td>0</td>\n",
       "      <td>0</td>\n",
       "      <td>0</td>\n",
       "      <td>One year</td>\n",
       "      <td>0</td>\n",
       "      <td>Mailed check</td>\n",
       "      <td>0.384539</td>\n",
       "      <td>0.216233</td>\n",
       "      <td>0</td>\n",
       "    </tr>\n",
       "    <tr>\n",
       "      <th>2</th>\n",
       "      <td>0</td>\n",
       "      <td>0</td>\n",
       "      <td>0</td>\n",
       "      <td>0</td>\n",
       "      <td>0.027778</td>\n",
       "      <td>1</td>\n",
       "      <td>0</td>\n",
       "      <td>DSL</td>\n",
       "      <td>1</td>\n",
       "      <td>1</td>\n",
       "      <td>0</td>\n",
       "      <td>0</td>\n",
       "      <td>0</td>\n",
       "      <td>0</td>\n",
       "      <td>Month-to-month</td>\n",
       "      <td>1</td>\n",
       "      <td>Mailed check</td>\n",
       "      <td>0.353616</td>\n",
       "      <td>0.010328</td>\n",
       "      <td>1</td>\n",
       "    </tr>\n",
       "    <tr>\n",
       "      <th>3</th>\n",
       "      <td>0</td>\n",
       "      <td>0</td>\n",
       "      <td>0</td>\n",
       "      <td>0</td>\n",
       "      <td>0.625000</td>\n",
       "      <td>0</td>\n",
       "      <td>0</td>\n",
       "      <td>DSL</td>\n",
       "      <td>1</td>\n",
       "      <td>0</td>\n",
       "      <td>1</td>\n",
       "      <td>1</td>\n",
       "      <td>0</td>\n",
       "      <td>0</td>\n",
       "      <td>One year</td>\n",
       "      <td>0</td>\n",
       "      <td>Bank transfer (automatic)</td>\n",
       "      <td>0.238404</td>\n",
       "      <td>0.210598</td>\n",
       "      <td>0</td>\n",
       "    </tr>\n",
       "    <tr>\n",
       "      <th>4</th>\n",
       "      <td>1</td>\n",
       "      <td>0</td>\n",
       "      <td>0</td>\n",
       "      <td>0</td>\n",
       "      <td>0.027778</td>\n",
       "      <td>1</td>\n",
       "      <td>0</td>\n",
       "      <td>Fiber optic</td>\n",
       "      <td>0</td>\n",
       "      <td>0</td>\n",
       "      <td>0</td>\n",
       "      <td>0</td>\n",
       "      <td>0</td>\n",
       "      <td>0</td>\n",
       "      <td>Month-to-month</td>\n",
       "      <td>1</td>\n",
       "      <td>Electronic check</td>\n",
       "      <td>0.521696</td>\n",
       "      <td>0.015356</td>\n",
       "      <td>1</td>\n",
       "    </tr>\n",
       "  </tbody>\n",
       "</table>\n",
       "</div>"
      ],
      "text/plain": [
       "   gender  SeniorCitizen  Partner  Dependents    tenure  PhoneService   \n",
       "0       1              0        1           0  0.013889             0  \\\n",
       "1       0              0        0           0  0.472222             1   \n",
       "2       0              0        0           0  0.027778             1   \n",
       "3       0              0        0           0  0.625000             0   \n",
       "4       1              0        0           0  0.027778             1   \n",
       "\n",
       "   MultipleLines InternetService  OnlineSecurity  OnlineBackup   \n",
       "0              0             DSL               0             1  \\\n",
       "1              0             DSL               1             0   \n",
       "2              0             DSL               1             1   \n",
       "3              0             DSL               1             0   \n",
       "4              0     Fiber optic               0             0   \n",
       "\n",
       "   DeviceProtection  TechSupport  StreamingTV  StreamingMovies   \n",
       "0                 0            0            0                0  \\\n",
       "1                 1            0            0                0   \n",
       "2                 0            0            0                0   \n",
       "3                 1            1            0                0   \n",
       "4                 0            0            0                0   \n",
       "\n",
       "         Contract  PaperlessBilling              PaymentMethod   \n",
       "0  Month-to-month                 1           Electronic check  \\\n",
       "1        One year                 0               Mailed check   \n",
       "2  Month-to-month                 1               Mailed check   \n",
       "3        One year                 0  Bank transfer (automatic)   \n",
       "4  Month-to-month                 1           Electronic check   \n",
       "\n",
       "   MonthlyCharges  TotalCharges  Churn  \n",
       "0        0.114214      0.001277      0  \n",
       "1        0.384539      0.216233      0  \n",
       "2        0.353616      0.010328      1  \n",
       "3        0.238404      0.210598      0  \n",
       "4        0.521696      0.015356      1  "
      ]
     },
     "execution_count": 53,
     "metadata": {},
     "output_type": "execute_result"
    }
   ],
   "source": [
    "# Select the categorical binary columns for label encoding\n",
    "label_encoding_columns = ['gender', 'SeniorCitizen', 'Partner', 'Dependents', 'PhoneService', 'MultipleLines', 'OnlineSecurity',\n",
    "                          'OnlineBackup', 'DeviceProtection', 'TechSupport', 'StreamingTV', 'StreamingMovies',\n",
    "                          'PaperlessBilling']\n",
    "\n",
    "# Encode categorical binary columns using label encoding\n",
    "for column in label_encoding_columns:\n",
    "\n",
    "   if column == 'gender':\n",
    "       train_data_transformed[column] = train_data_transformed[column].map({'Female': 1, 'Male': 0})\n",
    "   else:\n",
    "       train_data_transformed[column] = train_data_transformed[column].map({'Yes': 1, 'No': 0})\n",
    "\n",
    "# Show the results\n",
    "train_data_transformed.head()"
   ]
  },
  {
   "cell_type": "markdown",
   "metadata": {},
   "source": [
    "### One-hot encoding"
   ]
  },
  {
   "cell_type": "code",
   "execution_count": 54,
   "metadata": {},
   "outputs": [
    {
     "data": {
      "text/html": [
       "<div>\n",
       "<style scoped>\n",
       "    .dataframe tbody tr th:only-of-type {\n",
       "        vertical-align: middle;\n",
       "    }\n",
       "\n",
       "    .dataframe tbody tr th {\n",
       "        vertical-align: top;\n",
       "    }\n",
       "\n",
       "    .dataframe thead th {\n",
       "        text-align: right;\n",
       "    }\n",
       "</style>\n",
       "<table border=\"1\" class=\"dataframe\">\n",
       "  <thead>\n",
       "    <tr style=\"text-align: right;\">\n",
       "      <th></th>\n",
       "      <th>gender</th>\n",
       "      <th>SeniorCitizen</th>\n",
       "      <th>Partner</th>\n",
       "      <th>Dependents</th>\n",
       "      <th>tenure</th>\n",
       "      <th>PhoneService</th>\n",
       "      <th>MultipleLines</th>\n",
       "      <th>OnlineSecurity</th>\n",
       "      <th>OnlineBackup</th>\n",
       "      <th>DeviceProtection</th>\n",
       "      <th>...</th>\n",
       "      <th>InternetService_DSL</th>\n",
       "      <th>InternetService_Fiber optic</th>\n",
       "      <th>InternetService_No</th>\n",
       "      <th>Contract_Month-to-month</th>\n",
       "      <th>Contract_One year</th>\n",
       "      <th>Contract_Two year</th>\n",
       "      <th>PaymentMethod_Bank transfer (automatic)</th>\n",
       "      <th>PaymentMethod_Credit card (automatic)</th>\n",
       "      <th>PaymentMethod_Electronic check</th>\n",
       "      <th>PaymentMethod_Mailed check</th>\n",
       "    </tr>\n",
       "  </thead>\n",
       "  <tbody>\n",
       "    <tr>\n",
       "      <th>0</th>\n",
       "      <td>1</td>\n",
       "      <td>0</td>\n",
       "      <td>1</td>\n",
       "      <td>0</td>\n",
       "      <td>0.013889</td>\n",
       "      <td>0</td>\n",
       "      <td>0</td>\n",
       "      <td>0</td>\n",
       "      <td>1</td>\n",
       "      <td>0</td>\n",
       "      <td>...</td>\n",
       "      <td>True</td>\n",
       "      <td>False</td>\n",
       "      <td>False</td>\n",
       "      <td>True</td>\n",
       "      <td>False</td>\n",
       "      <td>False</td>\n",
       "      <td>False</td>\n",
       "      <td>False</td>\n",
       "      <td>True</td>\n",
       "      <td>False</td>\n",
       "    </tr>\n",
       "    <tr>\n",
       "      <th>1</th>\n",
       "      <td>0</td>\n",
       "      <td>0</td>\n",
       "      <td>0</td>\n",
       "      <td>0</td>\n",
       "      <td>0.472222</td>\n",
       "      <td>1</td>\n",
       "      <td>0</td>\n",
       "      <td>1</td>\n",
       "      <td>0</td>\n",
       "      <td>1</td>\n",
       "      <td>...</td>\n",
       "      <td>True</td>\n",
       "      <td>False</td>\n",
       "      <td>False</td>\n",
       "      <td>False</td>\n",
       "      <td>True</td>\n",
       "      <td>False</td>\n",
       "      <td>False</td>\n",
       "      <td>False</td>\n",
       "      <td>False</td>\n",
       "      <td>True</td>\n",
       "    </tr>\n",
       "    <tr>\n",
       "      <th>2</th>\n",
       "      <td>0</td>\n",
       "      <td>0</td>\n",
       "      <td>0</td>\n",
       "      <td>0</td>\n",
       "      <td>0.027778</td>\n",
       "      <td>1</td>\n",
       "      <td>0</td>\n",
       "      <td>1</td>\n",
       "      <td>1</td>\n",
       "      <td>0</td>\n",
       "      <td>...</td>\n",
       "      <td>True</td>\n",
       "      <td>False</td>\n",
       "      <td>False</td>\n",
       "      <td>True</td>\n",
       "      <td>False</td>\n",
       "      <td>False</td>\n",
       "      <td>False</td>\n",
       "      <td>False</td>\n",
       "      <td>False</td>\n",
       "      <td>True</td>\n",
       "    </tr>\n",
       "    <tr>\n",
       "      <th>3</th>\n",
       "      <td>0</td>\n",
       "      <td>0</td>\n",
       "      <td>0</td>\n",
       "      <td>0</td>\n",
       "      <td>0.625000</td>\n",
       "      <td>0</td>\n",
       "      <td>0</td>\n",
       "      <td>1</td>\n",
       "      <td>0</td>\n",
       "      <td>1</td>\n",
       "      <td>...</td>\n",
       "      <td>True</td>\n",
       "      <td>False</td>\n",
       "      <td>False</td>\n",
       "      <td>False</td>\n",
       "      <td>True</td>\n",
       "      <td>False</td>\n",
       "      <td>True</td>\n",
       "      <td>False</td>\n",
       "      <td>False</td>\n",
       "      <td>False</td>\n",
       "    </tr>\n",
       "    <tr>\n",
       "      <th>4</th>\n",
       "      <td>1</td>\n",
       "      <td>0</td>\n",
       "      <td>0</td>\n",
       "      <td>0</td>\n",
       "      <td>0.027778</td>\n",
       "      <td>1</td>\n",
       "      <td>0</td>\n",
       "      <td>0</td>\n",
       "      <td>0</td>\n",
       "      <td>0</td>\n",
       "      <td>...</td>\n",
       "      <td>False</td>\n",
       "      <td>True</td>\n",
       "      <td>False</td>\n",
       "      <td>True</td>\n",
       "      <td>False</td>\n",
       "      <td>False</td>\n",
       "      <td>False</td>\n",
       "      <td>False</td>\n",
       "      <td>True</td>\n",
       "      <td>False</td>\n",
       "    </tr>\n",
       "  </tbody>\n",
       "</table>\n",
       "<p>5 rows × 27 columns</p>\n",
       "</div>"
      ],
      "text/plain": [
       "   gender  SeniorCitizen  Partner  Dependents    tenure  PhoneService   \n",
       "0       1              0        1           0  0.013889             0  \\\n",
       "1       0              0        0           0  0.472222             1   \n",
       "2       0              0        0           0  0.027778             1   \n",
       "3       0              0        0           0  0.625000             0   \n",
       "4       1              0        0           0  0.027778             1   \n",
       "\n",
       "   MultipleLines  OnlineSecurity  OnlineBackup  DeviceProtection  ...   \n",
       "0              0               0             1                 0  ...  \\\n",
       "1              0               1             0                 1  ...   \n",
       "2              0               1             1                 0  ...   \n",
       "3              0               1             0                 1  ...   \n",
       "4              0               0             0                 0  ...   \n",
       "\n",
       "   InternetService_DSL  InternetService_Fiber optic  InternetService_No   \n",
       "0                 True                        False               False  \\\n",
       "1                 True                        False               False   \n",
       "2                 True                        False               False   \n",
       "3                 True                        False               False   \n",
       "4                False                         True               False   \n",
       "\n",
       "   Contract_Month-to-month  Contract_One year  Contract_Two year   \n",
       "0                     True              False              False  \\\n",
       "1                    False               True              False   \n",
       "2                     True              False              False   \n",
       "3                    False               True              False   \n",
       "4                     True              False              False   \n",
       "\n",
       "   PaymentMethod_Bank transfer (automatic)   \n",
       "0                                    False  \\\n",
       "1                                    False   \n",
       "2                                    False   \n",
       "3                                     True   \n",
       "4                                    False   \n",
       "\n",
       "   PaymentMethod_Credit card (automatic)  PaymentMethod_Electronic check   \n",
       "0                                  False                            True  \\\n",
       "1                                  False                           False   \n",
       "2                                  False                           False   \n",
       "3                                  False                           False   \n",
       "4                                  False                            True   \n",
       "\n",
       "   PaymentMethod_Mailed check  \n",
       "0                       False  \n",
       "1                        True  \n",
       "2                        True  \n",
       "3                       False  \n",
       "4                       False  \n",
       "\n",
       "[5 rows x 27 columns]"
      ]
     },
     "execution_count": 54,
     "metadata": {},
     "output_type": "execute_result"
    }
   ],
   "source": [
    "# Select categorical columns with more than two levels (two unique values) for one-hot encoding\n",
    "one_hot_encoding_columns = ['InternetService', 'Contract', 'PaymentMethod']\n",
    "\n",
    "# Encode categorical columns with more than two levels (two unique values) using one-hot encoding\n",
    "train_data_transformed = pd.get_dummies(train_data_transformed, columns=one_hot_encoding_columns)\n",
    "\n",
    "# Show the results\n",
    "train_data_transformed.head()"
   ]
  },
  {
   "cell_type": "markdown",
   "metadata": {},
   "source": [
    "# Splitting the train dataset"
   ]
  },
  {
   "cell_type": "code",
   "execution_count": 55,
   "metadata": {},
   "outputs": [
    {
     "name": "stdout",
     "output_type": "stream",
     "text": [
      "Train set shape: (4034, 26) (4034,) (1009, 26) (1009,)\n"
     ]
    }
   ],
   "source": [
    "X = train_data_transformed.drop('Churn', axis=1)\n",
    "y = train_data_transformed['Churn']\n",
    "\n",
    "# Split train dataset into train and validation sets\n",
    "X_train, X_val, y_train, y_val = train_test_split(X, y, test_size=0.2, random_state=42, stratify=y)\n",
    "\n",
    "# Print the shape of the train dataset\n",
    "print(\"Train set shape:\", X_train.shape, y_train.shape, X_val.shape, y_val.shape)"
   ]
  },
  {
   "cell_type": "markdown",
   "metadata": {},
   "source": [
    "# Balancing the dataset"
   ]
  },
  {
   "cell_type": "code",
   "execution_count": 56,
   "metadata": {},
   "outputs": [
    {
     "name": "stdout",
     "output_type": "stream",
     "text": [
      "Before balancing:\n",
      "Churn\n",
      "0    2965\n",
      "1    1069\n",
      "Name: count, dtype: int64\n",
      "After balancing:\n",
      "Churn\n",
      "0    1069\n",
      "1    1069\n",
      "Name: count, dtype: int64\n"
     ]
    }
   ],
   "source": [
    "# Perform oversampling using SMOTE\n",
    "smote = SMOTE(random_state=42)\n",
    "X_train_resampled, y_train_resampled = smote.fit_resample(X_train, y_train)\n",
    "\n",
    "# Perform undersampling using RandomUnderSampler\n",
    "rus = RandomUnderSampler(random_state=42)\n",
    "X_train_resampled, y_train_resampled = rus.fit_resample(X_train, y_train)\n",
    "\n",
    "# Print the class distribution before and after balancing\n",
    "print(\"Before balancing:\")\n",
    "print(y_train.value_counts())\n",
    "\n",
    "print(\"After balancing:\")\n",
    "print(pd.Series(y_train_resampled).value_counts())"
   ]
  },
  {
   "cell_type": "markdown",
   "metadata": {},
   "source": [
    "# Model Training and Evaluation"
   ]
  },
  {
   "cell_type": "code",
   "execution_count": 83,
   "metadata": {},
   "outputs": [
    {
     "data": {
      "text/html": [
       "<div>\n",
       "<style scoped>\n",
       "    .dataframe tbody tr th:only-of-type {\n",
       "        vertical-align: middle;\n",
       "    }\n",
       "\n",
       "    .dataframe tbody tr th {\n",
       "        vertical-align: top;\n",
       "    }\n",
       "\n",
       "    .dataframe thead th {\n",
       "        text-align: right;\n",
       "    }\n",
       "</style>\n",
       "<table border=\"1\" class=\"dataframe\">\n",
       "  <thead>\n",
       "    <tr style=\"text-align: right;\">\n",
       "      <th></th>\n",
       "      <th>Model</th>\n",
       "      <th>Accuracy</th>\n",
       "      <th>Precision</th>\n",
       "      <th>Recall</th>\n",
       "      <th>F1 Score</th>\n",
       "      <th>ROC_AUC</th>\n",
       "    </tr>\n",
       "  </thead>\n",
       "  <tbody>\n",
       "    <tr>\n",
       "      <th>0</th>\n",
       "      <td>Logistic Regression</td>\n",
       "      <td>0.800793</td>\n",
       "      <td>0.634146</td>\n",
       "      <td>0.584270</td>\n",
       "      <td>0.608187</td>\n",
       "      <td>0.731488</td>\n",
       "    </tr>\n",
       "    <tr>\n",
       "      <th>1</th>\n",
       "      <td>Decision Tree</td>\n",
       "      <td>0.776016</td>\n",
       "      <td>0.576208</td>\n",
       "      <td>0.580524</td>\n",
       "      <td>0.578358</td>\n",
       "      <td>0.713443</td>\n",
       "    </tr>\n",
       "    <tr>\n",
       "      <th>2</th>\n",
       "      <td>Random Forest</td>\n",
       "      <td>0.789891</td>\n",
       "      <td>0.636816</td>\n",
       "      <td>0.479401</td>\n",
       "      <td>0.547009</td>\n",
       "      <td>0.690509</td>\n",
       "    </tr>\n",
       "    <tr>\n",
       "      <th>3</th>\n",
       "      <td>Gradient Boosting</td>\n",
       "      <td>0.795837</td>\n",
       "      <td>0.629787</td>\n",
       "      <td>0.554307</td>\n",
       "      <td>0.589641</td>\n",
       "      <td>0.718528</td>\n",
       "    </tr>\n",
       "    <tr>\n",
       "      <th>4</th>\n",
       "      <td>Support Vector Machine</td>\n",
       "      <td>0.795837</td>\n",
       "      <td>0.628692</td>\n",
       "      <td>0.558052</td>\n",
       "      <td>0.591270</td>\n",
       "      <td>0.719727</td>\n",
       "    </tr>\n",
       "    <tr>\n",
       "      <th>5</th>\n",
       "      <td>Gaussian Naive Bayes</td>\n",
       "      <td>0.736373</td>\n",
       "      <td>0.501193</td>\n",
       "      <td>0.786517</td>\n",
       "      <td>0.612245</td>\n",
       "      <td>0.752423</td>\n",
       "    </tr>\n",
       "    <tr>\n",
       "      <th>6</th>\n",
       "      <td>K-Nearest Neighbors</td>\n",
       "      <td>0.765114</td>\n",
       "      <td>0.556391</td>\n",
       "      <td>0.554307</td>\n",
       "      <td>0.555347</td>\n",
       "      <td>0.697639</td>\n",
       "    </tr>\n",
       "  </tbody>\n",
       "</table>\n",
       "</div>"
      ],
      "text/plain": [
       "                    Model  Accuracy  Precision    Recall  F1 Score   ROC_AUC\n",
       "0     Logistic Regression  0.800793   0.634146  0.584270  0.608187  0.731488\n",
       "1           Decision Tree  0.776016   0.576208  0.580524  0.578358  0.713443\n",
       "2           Random Forest  0.789891   0.636816  0.479401  0.547009  0.690509\n",
       "3       Gradient Boosting  0.795837   0.629787  0.554307  0.589641  0.718528\n",
       "4  Support Vector Machine  0.795837   0.628692  0.558052  0.591270  0.719727\n",
       "5    Gaussian Naive Bayes  0.736373   0.501193  0.786517  0.612245  0.752423\n",
       "6     K-Nearest Neighbors  0.765114   0.556391  0.554307  0.555347  0.697639"
      ]
     },
     "execution_count": 83,
     "metadata": {},
     "output_type": "execute_result"
    }
   ],
   "source": [
    "# Create a list of models to train and evaluate\n",
    "models = [\n",
    "    ('Logistic Regression', LogisticRegression(random_state=42, solver='liblinear', max_iter=1000)),\n",
    "    ('Decision Tree', DecisionTreeClassifier(random_state=42, criterion='gini', min_samples_leaf=8, max_depth=5)),\n",
    "    ('Random Forest', RandomForestClassifier(random_state=42, n_estimators=100, max_depth=5)),\n",
    "    ('Gradient Boosting', GradientBoostingClassifier(random_state=42, n_estimators=100, learning_rate=0.1)),\n",
    "    ('Support Vector Machine', SVC(random_state=42, kernel='rbf', C=1.0)),\n",
    "    ('Gaussian Naive Bayes', GaussianNB()),\n",
    "    ('K-Nearest Neighbors', KNeighborsClassifier(n_neighbors=5)),\n",
    "]\n",
    "\n",
    "# Create an empty DataFrame to store our performance metrics\n",
    "performance_metrics = pd.DataFrame(columns=['Model', 'Accuracy', 'Precision', 'Recall', 'F1 Score', 'ROC_AUC'])\n",
    "\n",
    "#knn, svm, lr, dt, rf, \n",
    "# Model training, evaluation and result calculation\n",
    "for model_name, model in models:\n",
    "    # Model training\n",
    "    model.fit(X_train, y_train)\n",
    "    \n",
    "    # Using models to make predictions on validation set\n",
    "    y_pred = model.predict(X_val)\n",
    "    \n",
    "    # Calculate performance metrics\n",
    "    accuracy = accuracy_score(y_val, y_pred)\n",
    "    precision = precision_score(y_val, y_pred)\n",
    "    recall = recall_score(y_val, y_pred)\n",
    "    f1 = f1_score(y_val, y_pred)\n",
    "    roc_auc = roc_auc_score(y_val, y_pred)\n",
    "    \n",
    "    # Store the calculation results in the performance metrics DataFrame\n",
    "    performance_metrics = performance_metrics._append({\n",
    "        'Model': model_name,\n",
    "        'Accuracy': accuracy,\n",
    "        'Precision': precision,\n",
    "        'Recall': recall,\n",
    "        'F1 Score': f1,\n",
    "        'ROC_AUC': roc_auc\n",
    "    }, ignore_index=True)\n",
    "\n",
    "# Print the performance metrics DataFrame\n",
    "performance_metrics"
   ]
  },
  {
   "cell_type": "markdown",
   "metadata": {},
   "source": [
    "Based on the f1 score of the models, Guassian Naive Bayes is the best model with an f1 score of 0.612245."
   ]
  },
  {
   "cell_type": "markdown",
   "metadata": {},
   "source": [
    "# Confusion Matrix"
   ]
  },
  {
   "cell_type": "markdown",
   "metadata": {},
   "source": [
    "# Hyper-parameter tuning"
   ]
  },
  {
   "cell_type": "code",
   "execution_count": null,
   "metadata": {},
   "outputs": [],
   "source": []
  }
 ],
 "metadata": {
  "kernelspec": {
   "display_name": "Python 3 (ipykernel)",
   "language": "python",
   "name": "python3"
  },
  "language_info": {
   "codemirror_mode": {
    "name": "ipython",
    "version": 3
   },
   "file_extension": ".py",
   "mimetype": "text/x-python",
   "name": "python",
   "nbconvert_exporter": "python",
   "pygments_lexer": "ipython3",
   "version": "3.11.3"
  }
 },
 "nbformat": 4,
 "nbformat_minor": 2
}
